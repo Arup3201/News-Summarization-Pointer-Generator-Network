{
  "nbformat": 4,
  "nbformat_minor": 0,
  "metadata": {
    "colab": {
      "provenance": [],
      "gpuType": "T4",
      "authorship_tag": "ABX9TyOZjVex6bj34kuP4fvD/KF3",
      "include_colab_link": true
    },
    "kernelspec": {
      "name": "python3",
      "display_name": "Python 3"
    },
    "language_info": {
      "name": "python"
    },
    "accelerator": "GPU"
  },
  "cells": [
    {
      "cell_type": "markdown",
      "metadata": {
        "id": "view-in-github",
        "colab_type": "text"
      },
      "source": [
        "<a href=\"https://colab.research.google.com/github/Arup3201/Summarization-Project-using-Pointer-Gen/blob/main/Get_To_The_Point_Summarization_with_Pointer_Generator_Networks.ipynb\" target=\"_parent\"><img src=\"https://colab.research.google.com/assets/colab-badge.svg\" alt=\"Open In Colab\"/></a>"
      ]
    },
    {
      "cell_type": "code",
      "execution_count": 27,
      "metadata": {
        "id": "x6QucUCZ0q2V"
      },
      "outputs": [],
      "source": [
        "import numpy as np\n",
        "import pathlib\n",
        "import random\n",
        "import tensorflow as tf\n",
        "from tensorflow.keras.preprocessing.text import Tokenizer"
      ]
    },
    {
      "cell_type": "code",
      "source": [
        "path_to_cnn_stories = tf.keras.utils.get_file(\n",
        "    origin=\"https://huggingface.co/datasets/cnn_dailymail/resolve/main/data/cnn_stories.tgz\",\n",
        "    extract=True\n",
        ")\n",
        "\n",
        "path_to_dailymail_stories = tf.keras.utils.get_file(\n",
        "    origin=\"https://huggingface.co/datasets/cnn_dailymail/resolve/main/data/dailymail_stories.tgz\",\n",
        "    extract=True\n",
        ")"
      ],
      "metadata": {
        "colab": {
          "base_uri": "https://localhost:8080/"
        },
        "id": "hr2kPGPSLi5m",
        "outputId": "636d5dca-59a8-4486-cbac-7fcb21af9bd3"
      },
      "execution_count": 3,
      "outputs": [
        {
          "output_type": "stream",
          "name": "stdout",
          "text": [
            "Downloading data from https://huggingface.co/datasets/cnn_dailymail/resolve/main/data/cnn_stories.tgz\n",
            "158577824/158577824 [==============================] - 4s 0us/step\n",
            "Downloading data from https://huggingface.co/datasets/cnn_dailymail/resolve/main/data/dailymail_stories.tgz\n",
            "375893739/375893739 [==============================] - 7s 0us/step\n"
          ]
        }
      ]
    },
    {
      "cell_type": "code",
      "source": [
        "path_to_cnn_stories, path_to_dailymail_stories"
      ],
      "metadata": {
        "colab": {
          "base_uri": "https://localhost:8080/"
        },
        "id": "uamve0operH0",
        "outputId": "2e85c3b1-237b-4473-a84d-fd2af246c0d1"
      },
      "execution_count": 4,
      "outputs": [
        {
          "output_type": "execute_result",
          "data": {
            "text/plain": [
              "('/root/.keras/datasets/cnn_stories.tgz',\n",
              " '/root/.keras/datasets/dailymail_stories.tgz')"
            ]
          },
          "metadata": {},
          "execution_count": 4
        }
      ]
    },
    {
      "cell_type": "code",
      "source": [
        "!ls -l /root/.keras/datasets"
      ],
      "metadata": {
        "id": "WT84BmPll24S",
        "outputId": "eb210dfd-1246-494b-f31f-2d1b4c15e5af",
        "colab": {
          "base_uri": "https://localhost:8080/"
        }
      },
      "execution_count": 5,
      "outputs": [
        {
          "output_type": "stream",
          "name": "stdout",
          "text": [
            "total 521964\n",
            "drwxr-xr-x 3 root root      4096 Jul 25 16:17 cnn\n",
            "-rw-r--r-- 1 root root 158577824 Jul 25 16:17 cnn_stories.tgz\n",
            "drwxr-xr-x 3 root root      4096 Jul 25 16:17 dailymail\n",
            "-rw-r--r-- 1 root root 375893739 Jul 25 16:17 dailymail_stories.tgz\n"
          ]
        }
      ]
    },
    {
      "cell_type": "code",
      "source": [
        "cnn_stories_dir = pathlib.Path('/root/.keras/datasets/cnn/stories')\n",
        "dailymail_stories_dir = pathlib.Path('/root/.keras/datasets/dailymail/stories')"
      ],
      "metadata": {
        "id": "ag5ubSt7l88l"
      },
      "execution_count": 6,
      "outputs": []
    },
    {
      "cell_type": "code",
      "source": [
        "cnn_stories_dir, dailymail_stories_dir"
      ],
      "metadata": {
        "id": "UmMCM--Yhm3B",
        "outputId": "f5dff00e-09e2-4f8b-ce6d-6bbf3331ec92",
        "colab": {
          "base_uri": "https://localhost:8080/"
        }
      },
      "execution_count": 7,
      "outputs": [
        {
          "output_type": "execute_result",
          "data": {
            "text/plain": [
              "(PosixPath('/root/.keras/datasets/cnn/stories'),\n",
              " PosixPath('/root/.keras/datasets/dailymail/stories'))"
            ]
          },
          "metadata": {},
          "execution_count": 7
        }
      ]
    },
    {
      "cell_type": "code",
      "source": [
        "def print_filenames(dir_path, num_files=5):\n",
        "  '''Prints the name of the files that are present at `dir_path`.\n",
        "  Maximum `num_files` number of files are shown.\n",
        "\n",
        "  Arguements:\n",
        "    dir_path: PosixPath, pointing to the directory of which the user\n",
        "              wants to prints the file names.\n",
        "    num_files: int, number of files user wants to print.\n",
        "\n",
        "  returns:\n",
        "    nothing\n",
        "  '''\n",
        "\n",
        "  count = 0\n",
        "  for f in dir_path.glob('*.story'):\n",
        "    print(f.name)\n",
        "    count += 1\n",
        "\n",
        "    if count == num_files:\n",
        "      break\n",
        "  else:\n",
        "    print(f\"Less than {num_files} is present!\")"
      ],
      "metadata": {
        "id": "dZFFXG7Pg86H"
      },
      "execution_count": 8,
      "outputs": []
    },
    {
      "cell_type": "code",
      "source": [
        "print_filenames(cnn_stories_dir)"
      ],
      "metadata": {
        "id": "nv3g7-M316yL",
        "outputId": "349f621b-bfb7-49da-ed9b-a2523924ce8c",
        "colab": {
          "base_uri": "https://localhost:8080/"
        }
      },
      "execution_count": 9,
      "outputs": [
        {
          "output_type": "stream",
          "name": "stdout",
          "text": [
            "18e62a1fc7bc82e6462ba17c60f483edc81b3d16.story\n",
            "4a0b12b0be01248d390e00159fa0d14a396a9e9a.story\n",
            "f57e2aab804726fba2027b726c2063acd6eb4249.story\n",
            "0a50865864a332a56d91e2929d8a5cf7a185107d.story\n",
            "060a3ac3ed2f8ab619d393e46ec916da6f420113.story\n"
          ]
        }
      ]
    },
    {
      "cell_type": "code",
      "source": [
        "print_filenames(dailymail_stories_dir)"
      ],
      "metadata": {
        "id": "WcyW1wJa2EaN",
        "outputId": "7d8eb9f5-5ae6-4950-8ff1-94dbd0acc826",
        "colab": {
          "base_uri": "https://localhost:8080/"
        }
      },
      "execution_count": 10,
      "outputs": [
        {
          "output_type": "stream",
          "name": "stdout",
          "text": [
            "5c30a6845875a373a821ba85d3453e87cefd897d.story\n",
            "571e18e2e4b0f659b10507afac3a65af7160cf50.story\n",
            "49795c14f44fbdffcbf9498a821193d023c3348e.story\n",
            "4ebd9c69081672d213ed77c043fd55e42a5baeb5.story\n",
            "63d35ff8ff6820121cb6517f3d001529b3c8734a.story\n"
          ]
        }
      ]
    },
    {
      "cell_type": "code",
      "source": [
        "# Define the global variables\n",
        "dm_single_close_quote = u'\\u2019' # unicode\n",
        "dm_double_close_quote = u'\\u201d'\n",
        "END_TOKENS = ['.', '!', '?', '...', \"'\", \"`\", '\"',\n",
        "              dm_single_close_quote, dm_double_close_quote, \")\"]\n",
        "\n",
        "# Maximum stories to process from cnn and dailymail each\n",
        "MAX_STORIES = 50000\n",
        "\n",
        "# From the total data how to split into train, val and test\n",
        "TRAIN_SIZE = 0.8\n",
        "VAL_SIZE = 0.1\n",
        "TEST_SIZE = 0.1\n",
        "\n",
        "# For tokenization\n",
        "VOCAB_SIZE = 20000\n",
        "OOV_TOKEN = \"<UNK>\""
      ],
      "metadata": {
        "id": "cubLAm1Q3SuG"
      },
      "execution_count": 32,
      "outputs": []
    },
    {
      "cell_type": "code",
      "source": [
        "# Taking a sample .story file from cnn stories\n",
        "sample_filename = \"438411e10e1ef79b47cc48cd95296d85798c1e38.story\"\n",
        "sample_filedir = cnn_stories_dir\n",
        "\n",
        "sample_filepath = sample_filedir / sample_filename\n",
        "with open(sample_filepath, 'r') as f:\n",
        "  sample_story = f.read()\n",
        "\n",
        "print(sample_story)"
      ],
      "metadata": {
        "id": "Uw0kqchX3X7X",
        "outputId": "c4d6eb7e-e344-4460-a14d-2afafcfeddf9",
        "colab": {
          "base_uri": "https://localhost:8080/"
        }
      },
      "execution_count": 12,
      "outputs": [
        {
          "output_type": "stream",
          "name": "stdout",
          "text": [
            "New York (CNN) -- The U.S. population is expected to top out at close to 312.8 million people just around the time crowds gather to watch the ball drop on New Year's Eve, according to new census data released Thursday.\n",
            "\n",
            "The figure represents a 0.7% increase from last year, adding 2,250,129 people to the U.S. population since the start of 2011, and a 1.3% increase since Census Day, April 1, 2010.\n",
            "\n",
            "The agency estimates that beginning in January, one American will be born every eight seconds and one will die every 12 seconds.\n",
            "\n",
            "U.S.-bound immigrants are also expected to add one person every 46 seconds.\n",
            "\n",
            "That combination of births, deaths and migration is expected to add a single person to the U.S. population every 17 seconds, the Census Bureau said.\n",
            "\n",
            "Meanwhile, millions are set to ring in the new year.\n",
            "\n",
            "In New York, authorities are preparing for large crowds in Manhattan's Times Square, where Lady Gaga is expected to join Mayor Michael Bloomberg to push the button that drops the Waterford Crystal ball at 11:59 p.m. ET on New Year's Eve.\n",
            "\n",
            "\"And I'm so looking forward to performing on NYE+dropping the Ball with Mayor Bloomberg!\" the pop star posted on Twitter. \"What an honor as a New Yorker.\"\n",
            "\n",
            "Past guests have included Muhammad Ali, Rudy Giuliani, Colin Powell and Bill and Hillary Clinton.\n",
            "\n",
            "On Thursday, officials conducted New York's annual \"airworthiness test\" -- a process in which confetti is tossed by handfuls above Times Square -- in preparation for the annual city tradition of dumping one ton of confetti over revelers in the iconic square.\n",
            "\n",
            "The Big Apple this year edged out Las Vegas for the first time in seven years as the top travel U.S. destination for those celebrating the new year, according to a December travel booking website poll.\n",
            "\n",
            "Seven New York neighborhoods made the top 10 list, with two districts in Las Vegas and one in New Orleans making up the other three, according to the Priceline poll.\n",
            "\n",
            "\"It appears that New York City will be helped this year by a weather forecast that calls for warmer than usual temperatures over the holiday weekend,\" said company spokesman Brian Ek.\n",
            "\n",
            "@highlight\n",
            "\n",
            "Census Bureau: U.S. population is expected to be 312.8 million on New Year's Day\n",
            "\n",
            "@highlight\n",
            "\n",
            "That figure represents a 0.7% increase from last year\n",
            "\n",
            "@highlight\n",
            "\n",
            "Lady Gaga, mayor to activate ball drop at Times Square on New Year's Eve\n",
            "\n",
            "@highlight\n",
            "\n",
            "NYC has supplanted Las Vegas as the top New Year's destination, Priceline poll says\n"
          ]
        }
      ]
    },
    {
      "cell_type": "markdown",
      "source": [
        "I am creating a function `fix_missing_period` where I am taking 2 arguements, one for the `line` for which I am checking and fixing the period and other is `end_tokens` which is a list that has all the tokens that I should consider as ending of a sentence.\n",
        "\n",
        "These are the steps -\n",
        "1. Check if line contains `@highlight`, if True then just return the line.\n",
        "2. Check if line is empty, then return line as it is.\n",
        "3. Check is line ends with any of the `end_tokens`, if so then return line as it is.\n",
        "4. Only is none of the above conditions match then append `.` to the current line."
      ],
      "metadata": {
        "id": "iZPt8EVBzJ8a"
      }
    },
    {
      "cell_type": "code",
      "source": [
        "def fix_missing_period(line, end_tokens=END_TOKENS):\n",
        "  '''function to fix the missing periods for some story lines which do not end with\n",
        "  any of the end_tokens mentioned.\n",
        "\n",
        "  Arguements:\n",
        "    line: string, line of the story to fix the missing the period of.\n",
        "    end_tokens: list of strings, all the tokens that are considered as line end.\n",
        "\n",
        "  Returns:\n",
        "    new line with fixed the ending part by adding an ending token if not present.\n",
        "  '''\n",
        "  if \"@highlight\" in line:\n",
        "    return line\n",
        "  elif line == \"\":\n",
        "    return line\n",
        "  elif line[-1] in end_tokens:\n",
        "    return line\n",
        "\n",
        "  return line + '.'"
      ],
      "metadata": {
        "id": "i-S-Hss12TPk"
      },
      "execution_count": 13,
      "outputs": []
    },
    {
      "cell_type": "code",
      "source": [
        "fix_missing_period(sample_story.split('\\n')[0])"
      ],
      "metadata": {
        "colab": {
          "base_uri": "https://localhost:8080/",
          "height": 53
        },
        "id": "L1hiNysxnmAO",
        "outputId": "ed08d5bb-6f38-476e-8e5f-78ec817b6506"
      },
      "execution_count": 14,
      "outputs": [
        {
          "output_type": "execute_result",
          "data": {
            "text/plain": [
              "\"New York (CNN) -- The U.S. population is expected to top out at close to 312.8 million people just around the time crowds gather to watch the ball drop on New Year's Eve, according to new census data released Thursday.\""
            ],
            "application/vnd.google.colaboratory.intrinsic+json": {
              "type": "string"
            }
          },
          "metadata": {},
          "execution_count": 14
        }
      ]
    },
    {
      "cell_type": "markdown",
      "source": [
        "I am creating a function `split_article_summary` which will split the story into article and summary parts.\n",
        "\n",
        "The function takes only 1 arguement and that is the `story` which will be splitted into article and summary.\n",
        "\n",
        "The steps to follow are -\n",
        "1. Split the story by new line `\\n`. I will get a list of lines.\n",
        "2. Strip the lines by using list comprehension.\n",
        "3. Use list comprehension to make lower case each line by using `.lower()`.\n",
        "4. Fix each line by adding period if there is none in that line using `fix_missing_period` function.\n",
        "5. Make 2 empty list for `article` and `summary`.\n",
        "6. Go through each line. In each line, I need to check 4 things,\n",
        "  * line contains `@highlight` or not, if True then set `next_highlight` to `True` because the next to next line is going to be a summary line.\n",
        "  * line is `\"\"` empty or not, if True then ignore.\n",
        "  * `next_highlight` is True or not, if True then append the line to `summary`.\n",
        "  * If non of the ebove then append to `article`.\n",
        "7. After done with filling the `article` and `summary` list with lines, join those sentences to make the whole article and summary. Here, I am using `.join()` method."
      ],
      "metadata": {
        "id": "5-tqWtoowXxl"
      }
    },
    {
      "cell_type": "code",
      "source": [
        "def split_article_summary(story):\n",
        "  '''Splits the story into 2 parts, one for article and other for summary of that\n",
        "  article. Returns the article and summary.\n",
        "\n",
        "  Arguements:\n",
        "    story: string file that contains both article and summary combiningly.\n",
        "\n",
        "  Returns:\n",
        "    article, summary seperately from the story.\n",
        "\n",
        "  '''\n",
        "  lines = story.split('\\n')\n",
        "  lines = [line.strip() for line in lines]\n",
        "  lines = [line.lower() for line in lines]\n",
        "\n",
        "  # Fix the ending period\n",
        "  lines = [fix_missing_period(line) for line in lines]\n",
        "\n",
        "  # List to contain the article and summary lines\n",
        "  article = []\n",
        "  summary = []\n",
        "\n",
        "  # Indicator of whether the next line is the summary or not\n",
        "  next_highlight = False\n",
        "\n",
        "  for line in lines:\n",
        "    if \"@highlight\" in line:\n",
        "      next_highlight = True\n",
        "    elif line==\"\":\n",
        "      continue\n",
        "    elif next_highlight:\n",
        "      summary.append(line)\n",
        "    else:\n",
        "      article.append(line)\n",
        "\n",
        "  article = ' '.join(article)\n",
        "  summary = ' '.join(summary)\n",
        "\n",
        "  return article, summary"
      ],
      "metadata": {
        "id": "-X4eMltQnf10"
      },
      "execution_count": 15,
      "outputs": []
    },
    {
      "cell_type": "code",
      "source": [
        "split_article_summary(sample_story)"
      ],
      "metadata": {
        "colab": {
          "base_uri": "https://localhost:8080/"
        },
        "id": "nuUjOaN9orGU",
        "outputId": "33e0752a-ed4f-4e40-9408-2dcf1d50ddbe"
      },
      "execution_count": 16,
      "outputs": [
        {
          "output_type": "execute_result",
          "data": {
            "text/plain": [
              "('new york (cnn) -- the u.s. population is expected to top out at close to 312.8 million people just around the time crowds gather to watch the ball drop on new year\\'s eve, according to new census data released thursday. the figure represents a 0.7% increase from last year, adding 2,250,129 people to the u.s. population since the start of 2011, and a 1.3% increase since census day, april 1, 2010. the agency estimates that beginning in january, one american will be born every eight seconds and one will die every 12 seconds. u.s.-bound immigrants are also expected to add one person every 46 seconds. that combination of births, deaths and migration is expected to add a single person to the u.s. population every 17 seconds, the census bureau said. meanwhile, millions are set to ring in the new year. in new york, authorities are preparing for large crowds in manhattan\\'s times square, where lady gaga is expected to join mayor michael bloomberg to push the button that drops the waterford crystal ball at 11:59 p.m. et on new year\\'s eve. \"and i\\'m so looking forward to performing on nye+dropping the ball with mayor bloomberg!\" the pop star posted on twitter. \"what an honor as a new yorker.\" past guests have included muhammad ali, rudy giuliani, colin powell and bill and hillary clinton. on thursday, officials conducted new york\\'s annual \"airworthiness test\" -- a process in which confetti is tossed by handfuls above times square -- in preparation for the annual city tradition of dumping one ton of confetti over revelers in the iconic square. the big apple this year edged out las vegas for the first time in seven years as the top travel u.s. destination for those celebrating the new year, according to a december travel booking website poll. seven new york neighborhoods made the top 10 list, with two districts in las vegas and one in new orleans making up the other three, according to the priceline poll. \"it appears that new york city will be helped this year by a weather forecast that calls for warmer than usual temperatures over the holiday weekend,\" said company spokesman brian ek.',\n",
              " \"census bureau: u.s. population is expected to be 312.8 million on new year's day. that figure represents a 0.7% increase from last year. lady gaga, mayor to activate ball drop at times square on new year's eve. nyc has supplanted las vegas as the top new year's destination, priceline poll says.\")"
            ]
          },
          "metadata": {},
          "execution_count": 16
        }
      ]
    },
    {
      "cell_type": "markdown",
      "source": [
        "I am creating a function `get_articles_summaries` which will process each of the stories present in the directory of cnn and dailymail and return the articles, summaries in the form of list.\n",
        "\n",
        "This function will take 2 arguements. One will be the `stories_dir` which is a Posix format string from `pathlib` library and another arguement is of `max_stories` which is the maximum number of stories that we will extract from those directories.\n",
        "\n",
        "The process is simple. We will follow this steps -\n",
        "1. Create 2 empty lists of `articles` and `summaries`.\n",
        "2. Loop through all the files present in the directory `stories_dir` using `.glob` generator method.\n",
        "3. Make a `count` variable which will count the number of processed strories and when it hits `max_stories`, break from the loop.\n",
        "4. Inside the loop, you will open the file in `r` reading format, then just use `.read()` method to read the story.\n",
        "5. Everytime after reading the story, split the article and summary part from it and then append them inside the `articles` and `summaries` list.\n",
        "6. Return the 2 lists."
      ],
      "metadata": {
        "id": "oTEa0m3Huxz4"
      }
    },
    {
      "cell_type": "code",
      "source": [
        "def get_articles_summaries(stories_dir, max_stories):\n",
        "  '''stores the stories from stories_dir folder into a list and returns the list\n",
        "\n",
        "  Arguement:\n",
        "    stories_dir: Posix string, the directory where the stories are stored\n",
        "    max_stories: maximum number of stories to store\n",
        "\n",
        "  Returns:\n",
        "    list of stories.\n",
        "\n",
        "  '''\n",
        "  articles = []\n",
        "  summaries = []\n",
        "\n",
        "  count = 0\n",
        "  for f in stories_dir.glob(\"*.story\"):\n",
        "    count += 1\n",
        "    with open(f, 'r') as reader:\n",
        "      story = reader.read()\n",
        "\n",
        "      article, summary = split_article_summary(story)\n",
        "\n",
        "      articles.append(article)\n",
        "      summaries.append(summary)\n",
        "\n",
        "    if count == max_stories:\n",
        "      break\n",
        "\n",
        "  return articles, summaries"
      ],
      "metadata": {
        "id": "4VUmbYSpnjAr"
      },
      "execution_count": 17,
      "outputs": []
    },
    {
      "cell_type": "markdown",
      "source": [
        "```\n",
        "cnn\n",
        "  stories\n",
        "    438411e10e1ef79b47cc48cd95296d85798c1e38.story\n",
        "    e453e379e8a70af2d3dff1c75c41b0a35edbe9cc.story\n",
        "    2079f35aca44978a7985afe0ddacdf02bedf98f2.story\n",
        "    4702f28c198223157bb8f69665b039d560eebb0f.story\n",
        "    db3e2ea79323a98379228b17cd3b9dec17dbd2cb.story\n",
        "    ...\n",
        "    ...\n",
        "    ...\n",
        "\n",
        "dailymail\n",
        "  stories\n",
        "    f4ba18635997139c751311b9f2ad18f455dd7c98.story\n",
        "    4a3ef32cff589c85ad0d22724e2ed747c0dacf87.story\n",
        "    5375ed75939108c72001b043d3b4799c47f32be9.story\n",
        "    fe9e57c21e21fb4ec26e394f0e92824f38d18a95.story\n",
        "    6a544b5cdd2384be6cc657b265d7aa2de72a99e0.story\n",
        "    ...\n",
        "    ...\n",
        "    ...\n",
        "\n",
        "```\n",
        "\n",
        "Out of all available .story files, we will only take `MAX_STORIES` number of files and then open them."
      ],
      "metadata": {
        "id": "Uk-BuCM4rIiO"
      }
    },
    {
      "cell_type": "code",
      "source": [
        "cnn_articles, cnn_summaries = get_articles_summaries(cnn_stories_dir, MAX_STORIES)\n",
        "\n",
        "len(cnn_articles)"
      ],
      "metadata": {
        "colab": {
          "base_uri": "https://localhost:8080/"
        },
        "id": "aa9ZDQntpHQZ",
        "outputId": "a83f4dbb-268f-4aa2-c739-455bbc1f34c4"
      },
      "execution_count": 18,
      "outputs": [
        {
          "output_type": "execute_result",
          "data": {
            "text/plain": [
              "50000"
            ]
          },
          "metadata": {},
          "execution_count": 18
        }
      ]
    },
    {
      "cell_type": "code",
      "source": [
        "print(f\"Total no of cnn stories captured are {len(cnn_articles)}\\n\\n\")\n",
        "print(f\"One of the CNN articles: {cnn_articles[0]}\\n\\n\")\n",
        "print(f\"The summary of this article: {cnn_summaries[0]}\\n\\n\")"
      ],
      "metadata": {
        "colab": {
          "base_uri": "https://localhost:8080/"
        },
        "id": "-q_i-69YqJnj",
        "outputId": "33a29dc1-7726-41de-d95f-8c8d74c54886"
      },
      "execution_count": 19,
      "outputs": [
        {
          "output_type": "stream",
          "name": "stdout",
          "text": [
            "Total no of cnn stories captured are 50000\n",
            "\n",
            "\n",
            "One of the CNN articles: (tribune media services) -- we don't know where to look first. the massive pillars, looking like tree trunks, stone chameleons, tortoises and turtles, help support the columns. the sheer size of the place is amazing. some of the towers soar more than 500 feet. even jaded teens, like my 13-year-old niece, erica fieldman, can't help but be impressed. antoni gaudi's sagrada familia is barcelona's most famous site and spain's most visited. welcome to antoni gaudi's unfinished masterpiece, the sagrada familia, barcelona's most famous site and spain's most visited. more than 40 years after the eccentric and revered architect's death -- he was struck by a tram -- work still continues on the huge church first begun in 1882. some 2.5 million people visited last year. this is a great place to engage the kids in a scavenger hunt. (find the fruit carved on top of the towers, the young stone musicians, the birds.) there are two completed facades -- one represents the birth of jesus, the other the passion of christ. (if you look closely, you'll see gaudi's face.) it's amazing that the project continued after anarchists burned gaudi's studio, along with the plans for the church, during the spanish civil war. luckily, gaudi had made plaster models of the church (we see them in the museum at the site) and though they were also smashed, his supporters were able to painstakingly put them back together so the work could continue. gaudi, so obsessed at the end of his life with completing the church, slept on a bed in his workshop. he is buried in the church's crypt. i want to go to the top (you take an elevator, but walk down the stairs), but i think erica has had enough. sometimes, you have to know when to call it quits, even at incredible sites like this one. i tell myself erica will come back some day and remember how she couldn't decide whether she was bored or fascinated. park guell garden complex, designed to be a housing development, was gaudi's largest work in barcelona. it's a garden city with fantastically shaped roofs, a house that looks as if it's made out of candy, and the famous serpentine bench made out of broken mosaic. unfortunately, no one in barcelona gravitated toward the idea. the only three houses built were for gaudi, the developer and the developer's lawyer. i'd live there in a minute for the spectacular views of barcelona. we all love the giant mosaic dragon. \"cool,\" erica says. sometimes when trying to show kids new cities, you can't hope for more than that. barcelona, home to the 1992 summer olympics, is a city that appeals to kids (especially teens) and parents. in recent years, it's become a favorite of american families who board cruise ships here in summer -- as we did last year. if you plan to do a lot of touring, get the barcelona card, which includes free public transportation, museum admissions, restaurant discounts and more. there are some 10,000 restaurants in barcelona and 35,000 shops. (did you know more than 20 percent of all spending in spain takes place here? and with such friendly locals, there's no better place for the kids to practice their spanish. (starting this spring, american airlines will fly nonstop from new york to barcelona. walk off your jet lag by taking in all the chic couples walking along the beach, the city's famous art nouveau architecture, the art, (picasso lived here as a teen), the ancient gothic quarter and the street entertainers along the mile-long las ramblas. ever see a human flower statue? a bird market? i never saw so many different kinds of gummies than at the famous boqueria food market, said to be the largest in europe. it's been here for centuries. the kids will give a thumbs up to montjuic, one of barcelona's largest recreation areas, which rises nearly 700 feet above the south side of the city. we're holing up overnight at the hotel arts barcelona, a ritz carlton, a famous icon of the barcelona skyline and a short walk from the beach and many of the city sites. there's nothing like a luxury hotel when you are jet lagged. the place is packed with families, even on the concierge level where parents and kids indulge in free breakfasts, snacks and drinks. another highlight is the secluded pool area next to the distinctive shadow of the frank gehry fish sculpture. but before we hit the pool -- or fall asleep -- a little culture is in order. my pick: museu picasso. it's housed in three spectacular stone mansions in the historic quarter of the city and showcases works from the artist's early years, his blue period and early works from barcelona. picasso moved here in 1895 at the age of 14 and donated some 2,500 art pieces to the museums in 1970. (show your young artists what he did as a kid!) that night, after we hit the pool, we head to bestial, which the hotel concierge told us is a \"hip\" gathering spot for locals. i didn't really see evidence of that, but, after all, we were there at 8:30, early by barcelona standards. even erica agreed the food was great, especially the wood-fired pizza. donkey or bull, our amiable guide bernard liso asks the next morning. the bull, of course, is the national symbol of spain. the donkey is the symbol of the catalans. we learn that people in barcelona speak catalan as well as spanish and there's a fierce matter of national pride. from its earliest days, barcelona has been linked to france, thus the emphasis here on catalan -- catalonia lies midway between france and spain. i'm determined to have paella for lunch. we are in barcelona after all. paella, of course, is the famous spanish rice dish that's usually topped with chicken, sausage and shellfish. we head to a small restaurant in the old historic quarter of the city, los caracoles. i'm completely charmed by the mosaics and the open kitchen, the way the rooms of the restaurant wind up around an old staircase. erica unfortunately isn't. \"i just won't eat,\" says erica, after perusing the menu. there's no pasta and she doesn't want anything else. we dig into our paella. erica agrees to taste it, as long as i take the shells off the shrimp. not bad, she says, helping herself to more rice. i just sip my sangria and don't say a word. a few months later, erica tells me she's already decided where she wants to go abroad when she's in college -- barcelona. e-mail to a friend. (for more taking the kids, visit www.takingthekids.com, where eileen ogintz welcomes your questions and comments.) copyright 2009 eileen ogintz, distributed by tribune media services, inc.\n",
            "\n",
            "\n",
            "The summary of this article: some 2.5 million people visited antoni gaudi's sagrada familia last year. the architect's fantastic park guell garden complex is fun to explore with kids. the museu picasso showcases the artist's early work.\n",
            "\n",
            "\n"
          ]
        }
      ]
    },
    {
      "cell_type": "code",
      "source": [
        "dailymail_articles, dailymail_summaries = get_articles_summaries(dailymail_stories_dir,\n",
        "                                                                 MAX_STORIES)"
      ],
      "metadata": {
        "id": "KT4Hrp6nqeKu"
      },
      "execution_count": 20,
      "outputs": []
    },
    {
      "cell_type": "code",
      "source": [
        "print(f\"Total no of cnn stories captured are {len(dailymail_articles)}\\n\\n\")\n",
        "print(f\"One of the CNN articles: {dailymail_articles[0]}\\n\\n\")\n",
        "print(f\"The summary of this article: {dailymail_summaries[0]}\\n\\n\")"
      ],
      "metadata": {
        "id": "nkzwSP9kh4VK",
        "outputId": "8ccbb84b-85e2-4ed5-da3e-499e78c88baa",
        "colab": {
          "base_uri": "https://localhost:8080/"
        }
      },
      "execution_count": 21,
      "outputs": [
        {
          "output_type": "stream",
          "name": "stdout",
          "text": [
            "Total no of cnn stories captured are 50000\n",
            "\n",
            "\n",
            "One of the CNN articles: by. ian sparks. published:. 08:22 est, 16 january 2013. |. updated:. 12:17 est, 16 january 2013. prince albert of monaco and his sisters have branded a new hollywood film about the life of their mother grace kelly as 'pointlessly glamorised and historically inaccurate'. the ruling family of the tiny mediterranean tax haven also attacked some scenes in the forthcoming movie starring nicole kidman as 'pure fiction'. american-born kelly was one of the world's most famous film stars until she married albert's father in 1956 and became princess grace of monaco. anger: prince albert of monaco and his sisters princess caroline (left) and princess stephanie (right) have branded a film about their mother grace kelly as 'pointlessly glamorised' the high society and dial m for murder actress died in a car accident on a winding road above the principality in 1982 at the age of 52. oscar-winner kidman is now starring as kelly in the biopic called grace of monaco - due for release next year - that centres on her life in 1962 as a young princess in monaco. the film also stars british actors robert lindsay as greek shipping billionaire aristotle onassis, and derek jacobi as count fernando d'aillieres. oscar-winner kidman seen left on the film set, is starring as kelly, right, in the biopic called grace of monaco - due for release next year - that centres on her life in 1962 as a young princess in monaco. us star tim roth plays grace's husband prince rainier iii of monaco in the film directed by frenchman olivier dahan. prince. albert is said to have been sent scripts before filming began in monaco. and the south of france last autumn in a bid to win his support for the. movie, french daily le figaro reported. but. albert and his sisters princess caroline and princess stephanie have. now issued a statement saying they had 'no part' in the making the. making of the film. they wrote: 'we have had absolutely no association with this project which is claims to be about the lives of our parents. in character: nicole kidman brings grace kelly to life in one of the princess of monaco's most famous outfits, alongside on screen husband tim roth. set for release in 2014: the film grace of monaco - which is directed by olivier dahan - begins six years into the. former actress' marriage to the prince, where she must help her husband. reform monaco's tax laws. day job: kidman was pictured on set alongside milo ventimiglia,. who plays publicist rupert allan, on sunday as she filmed scenes for. grace of monaco. 'for us, this film does not constitute a biographical work, but portrays only a part of her life and has been pointlessly glamored, and contains important historical inaccuracies as well as scenes of pure fiction.' kidman said recently of the movie: 'what really interested me about this film is how it covers grace's transition from film star to princess in 1962. 'it reveals her great humanity but also her fears and frailties as she leaves her career behind.' silver screen: the film 'rear window' (1954) starring james stewart and grace kelly. kelly was one of the world's most famous film stars until she married albert's father in 1956 and became princess grace of monaco. biopic: princess grace of monaco with her family prince rainier, princess caroline and prince albert. the memory of grace kelly is still revered in monaco, with streets, a hospital and other public buildings all named after her. mystery still surrounds grace's death, in which the official version of events states that the princess suffered a stroke while driving with daughter stephanie in the passenger seat. she suffered serious head injuries and died in hospital the next day. but three decades later, there are still persistent rumours that 17-year-old stephanie, who suffered only minor bruising in the crash, had actually been driving at the time. killed: the high society and dial m for murder actress died in a car accident on a winding road above the principality in 1982 at the age of 52.\n",
            "\n",
            "\n",
            "The summary of this article: attacked some scenes in forthcoming movie as 'pure fiction' film centres on her life in 1962 as a young princess in monaco. grace of monaco is due for release in 2014.\n",
            "\n",
            "\n"
          ]
        }
      ]
    },
    {
      "cell_type": "code",
      "source": [
        "[1, 2] + [3, 4]"
      ],
      "metadata": {
        "id": "ToPn8sAtpyOX",
        "outputId": "13e4d846-ba30-4fb7-a4f9-4ef6410f3976",
        "colab": {
          "base_uri": "https://localhost:8080/"
        }
      },
      "execution_count": 22,
      "outputs": [
        {
          "output_type": "execute_result",
          "data": {
            "text/plain": [
              "[1, 2, 3, 4]"
            ]
          },
          "metadata": {},
          "execution_count": 22
        }
      ]
    },
    {
      "cell_type": "code",
      "source": [
        "random.seed(0) # Keeps the shuffling same as before\n",
        "random.sample([1, 2, 3, 4, 5], 5)"
      ],
      "metadata": {
        "id": "eFZO1v0NqIJM",
        "outputId": "bf065941-0db6-45b2-8370-6e5693d2c6e9",
        "colab": {
          "base_uri": "https://localhost:8080/"
        }
      },
      "execution_count": 23,
      "outputs": [
        {
          "output_type": "execute_result",
          "data": {
            "text/plain": [
              "[4, 5, 1, 2, 3]"
            ]
          },
          "metadata": {},
          "execution_count": 23
        }
      ]
    },
    {
      "cell_type": "code",
      "source": [
        "sample_article, sample_summary = split_article_summary(sample_story)"
      ],
      "metadata": {
        "id": "ZJCTOgIJmyXh"
      },
      "execution_count": 24,
      "outputs": []
    },
    {
      "cell_type": "code",
      "source": [
        "sample_article"
      ],
      "metadata": {
        "id": "STljZePPnGy9",
        "outputId": "7bbed8a7-8754-4745-ef05-dfbdef8d4cb2",
        "colab": {
          "base_uri": "https://localhost:8080/",
          "height": 261
        }
      },
      "execution_count": 25,
      "outputs": [
        {
          "output_type": "execute_result",
          "data": {
            "text/plain": [
              "'new york (cnn) -- the u.s. population is expected to top out at close to 312.8 million people just around the time crowds gather to watch the ball drop on new year\\'s eve, according to new census data released thursday. the figure represents a 0.7% increase from last year, adding 2,250,129 people to the u.s. population since the start of 2011, and a 1.3% increase since census day, april 1, 2010. the agency estimates that beginning in january, one american will be born every eight seconds and one will die every 12 seconds. u.s.-bound immigrants are also expected to add one person every 46 seconds. that combination of births, deaths and migration is expected to add a single person to the u.s. population every 17 seconds, the census bureau said. meanwhile, millions are set to ring in the new year. in new york, authorities are preparing for large crowds in manhattan\\'s times square, where lady gaga is expected to join mayor michael bloomberg to push the button that drops the waterford crystal ball at 11:59 p.m. et on new year\\'s eve. \"and i\\'m so looking forward to performing on nye+dropping the ball with mayor bloomberg!\" the pop star posted on twitter. \"what an honor as a new yorker.\" past guests have included muhammad ali, rudy giuliani, colin powell and bill and hillary clinton. on thursday, officials conducted new york\\'s annual \"airworthiness test\" -- a process in which confetti is tossed by handfuls above times square -- in preparation for the annual city tradition of dumping one ton of confetti over revelers in the iconic square. the big apple this year edged out las vegas for the first time in seven years as the top travel u.s. destination for those celebrating the new year, according to a december travel booking website poll. seven new york neighborhoods made the top 10 list, with two districts in las vegas and one in new orleans making up the other three, according to the priceline poll. \"it appears that new york city will be helped this year by a weather forecast that calls for warmer than usual temperatures over the holiday weekend,\" said company spokesman brian ek.'"
            ],
            "application/vnd.google.colaboratory.intrinsic+json": {
              "type": "string"
            }
          },
          "metadata": {},
          "execution_count": 25
        }
      ]
    },
    {
      "cell_type": "markdown",
      "source": [
        "I am creating another function -\n",
        "`split_dataset(train_size, val_size, test_size)`: I am creating this function to split the original 1,00,000 examples into 80,000 training samples, 10,000 val samples and 10,000 test samples."
      ],
      "metadata": {
        "id": "8ea-PhS3iIJZ"
      }
    },
    {
      "cell_type": "code",
      "source": [
        "def split_dataset(dataset, train_size, val_size, test_size):\n",
        "  first_split = train_size\n",
        "  second_split = train_size+val_size\n",
        "  third_split = train_size+val_size+test_size\n",
        "  return dataset[:first_split, :], dataset[first_split:second_split, :], dataset[second_split:third_split, :]"
      ],
      "metadata": {
        "id": "v-iZDbUCqkdC"
      },
      "execution_count": 28,
      "outputs": []
    },
    {
      "cell_type": "markdown",
      "source": [
        "Utilize the 4 functions created above into one function called `make_datasets`. This function will -\n",
        "1. This functions will have many argumenets and among them 2 argumenets `cnn_stories` and `dailymail_stories` are lists which has list of articles and summaries at 0 and 1 index. It means `cnn_stories[0]` is articles of cnn news and `cnn_stories[1]` is summaries of cnn news. It applies to `dailymail_stories` as well.\n",
        "Objective of this step is to concatenate the cnn articles with dailymail articles and cnn summaries with dailymail summaries.\n",
        "```python\n",
        "[1, 2] + [3, 4] = [1, 2, 3, 4]\n",
        "```\n",
        "\n",
        "3. Convert the articles and summaries list into tensors and then concatenate them along a new axis. To create new axis I can use `tf.newaxis` in the indexing. E.g.\n",
        "```python\n",
        "  np.concatenate([articles[:, tf.newaxis], summaries[:, tf.newaxis]], axis=-1)\n",
        "```\n",
        "4. Shuffle the dataset using `random.sample` method.\n",
        "```python\n",
        "random.seed(seed_value) # To make sure that everytime it gives the same shuffle\n",
        "random.sample(list_to_shuffle, len(list_to_shuffle))\n",
        "```\n",
        "5. Split the dataset into 3 parts, one for training, other for validation and last one for testing. All the tensors are of shape `(num_samples, 2)`."
      ],
      "metadata": {
        "id": "FTB5eNzJrqyr"
      }
    },
    {
      "cell_type": "code",
      "source": [
        "def make_datasets(cnn_stories, dailymail_stories, train_fraction, val_fraction, test_fraction, seed_value=0):\n",
        "  '''Create 3 datasets each for training, validation and testing respectively.\n",
        "  This function concatenates the articles, summaries of cnn and dailymail news. After that it will tokenize\n",
        "  them one by one in a loop. After it is done with the tokenization, it will shuffle the articles and\n",
        "  summaries using random.sample method (although we have a helper function for it). Finally we do the\n",
        "  splitting of the whole dataset. Remember here the returned values become tensors.\n",
        "\n",
        "  Arguements:\n",
        "    cnn_stories: list of 2 values, one for cnn articles and other for cnn summaries.\n",
        "    dailymail_stories: list of 2 values, one for dailymail articles and other for dailymail summaries.\n",
        "    train_size: float, specifying how much fraction of the original dataset to take for training.\n",
        "    val_size: float, specifying how much fraction of the original dataset to take for validation.\n",
        "    test_size: float, specifying how much fraction of the original dataset to take for testing.\n",
        "\n",
        "  Returns:\n",
        "    returns a tuple with 3 values inside it, `training_data`, `validation_data` and `testing_data`\n",
        "    with the specified amount of data in it.\n",
        "    Each one of them are tensor with shape `(num_samples, 2)`. `shape[1]=2` for article and summary.\n",
        "  '''\n",
        "  articles = cnn_stories[0] + dailymail_stories[0]\n",
        "  summaries = cnn_stories[1] + dailymail_stories[1]\n",
        "\n",
        "  articles = np.array(articles, dtype=object)\n",
        "  summaries = np.array(summaries, dtype=object)\n",
        "\n",
        "  dataset = np.concatenate((articles[:, tf.newaxis], summaries[:, tf.newaxis]), axis=-1)\n",
        "\n",
        "  random.seed(seed_value)\n",
        "  shuffled_indices = random.sample(list(range(dataset.shape[0])), dataset.shape[0])\n",
        "\n",
        "  dataset = dataset[shuffled_indices, :]\n",
        "\n",
        "  train_size = int(train_fraction * dataset.shape[0])\n",
        "  val_size = int(val_fraction * dataset.shape[0])\n",
        "  test_size = dataset.shape[0] - (train_size + val_size)\n",
        "\n",
        "  training_samples, validation_samples, testing_samples = split_dataset(dataset,\n",
        "                                                                        train_size,\n",
        "                                                                        val_size,\n",
        "                                                                        test_size)\n",
        "\n",
        "  return (training_samples, validation_samples, testing_samples)"
      ],
      "metadata": {
        "id": "QDB0_32RrnHk"
      },
      "execution_count": 29,
      "outputs": []
    },
    {
      "cell_type": "code",
      "source": [
        "train_dataset, val_dataset, test_dataset = make_datasets([cnn_articles, cnn_summaries], [dailymail_articles, dailymail_summaries], TRAIN_SIZE, VAL_SIZE, TEST_SIZE)"
      ],
      "metadata": {
        "id": "GTnXBwd6Sa-U"
      },
      "execution_count": 30,
      "outputs": []
    },
    {
      "cell_type": "code",
      "source": [
        "print(f\"Type of the datasets: {type(train_dataset)}\\n\")\n",
        "\n",
        "print(f\"Training dataset shape: {train_dataset.shape}\")\n",
        "print(f\"Validation dataset shape: {val_dataset.shape}\")\n",
        "print(f\"Testing dataset shape: {test_dataset.shape}\\n\")\n",
        "\n",
        "print(f\"First example in the training dataset looks like: \\n {train_dataset[0]}\\n\")"
      ],
      "metadata": {
        "id": "AyRVodwIhkuQ",
        "outputId": "0df50a1d-0c12-41ed-f23e-c7fda7f8397f",
        "colab": {
          "base_uri": "https://localhost:8080/"
        }
      },
      "execution_count": 31,
      "outputs": [
        {
          "output_type": "stream",
          "name": "stdout",
          "text": [
            "Type of the datasets: <class 'numpy.ndarray'>\n",
            "\n",
            "Training dataset shape: (80000, 2)\n",
            "Validation dataset shape: (10000, 2)\n",
            "Testing dataset shape: (10000, 2)\n",
            "\n",
            "First example in the training dataset looks like: \n",
            " [\"by. daily mail reporter and associated press reporter. published:. 01:54 est, 1 december 2012. |. updated:. 01:54 est, 1 december 2012. a kindergarten teacher locked a 5-year-old boy in a small, dark room alone at the end of a school day then forgot the child was there for over an hour, the boy’s outraged father says. school officials in caldwell, idaho, said friday they were investigating after hearing from james cagle, who says that when his wife found their son he was crying and had urinated on himself. ‘he was scared,’ cagle told boise television station ktvb. ‘you know just think about that… a 5-year-old boy.’ scroll down for video. furious father: james cagle says he is outraged that a kindergarten teacher locked a 5-year-old boy in a small, dark room alone at the end of a school day and then forgot he was there for over an hour. tough time: cagle says that when his wife found their son he was crying and had urinated on himself. cagle said he and his wife panicked when their son didn't come home from his morning kindergarten class wednesday. about 45 minutes after he was supposed to be home, they headed to washington elementary school to look for him. cagle said his wife and a school secretary found the boy crying and afraid in the small room in the dark, where he had apparently been for around an hour and a half after the teacher put him there for misbehaving. ‘i know that if i locked my child in a room long enough for him to urinate on himself, i'd be going to jail or child protective services would dang sure be here taking him out of my house that night,’ cagle said. school officials dispute that the room was locked, saying the teacher would not have had a key. assistant district superintendent monica white also noted that the door to the room has a large window, which allows light in from the hallway. still, officials acknowledge that the discipline was inappropriate. frustrated district superintendent: the teacher ¿should not have done that,¿ said district superintendent tim rosandick. the teacher ‘should not have done that,’ said district superintendent tim rosandick. ‘that's not a preferred practice,’ rosandick added. ‘that is not what we would have wanted her to do.’ the district hasn't released the teacher's name, nor will officials say whether she is still employed.white also said she can't discuss what offense prompted the teacher to place the boy in the room, citing federal student privacy laws. cagle said administrators told him that an incident report had been placed in the teacher's personnel file, and that she was still teaching at the school. rosandick said the room is used for tutoring, where aides work with students one-on-one. it's also used for emotionally impaired students, when a child needs to be removed from a class for becoming violent. alone time: this is the room that cagle's son was left in. closer look: school officials in caldwell, idaho, said they are investigating the incident. neither of those instances apply in this case, however, rosandick said. ‘what is very regrettable, and the teacher certainly feels awful about this, is the fact that the child was left in there and was, essentially, she had forgotten that she had placed the child in that room,’ said rosandick. the district is reviewing its policies and procedures on the tutoring rooms, white said. cagle has also met with the school principal, steve foley, who agreed to place his son in another kindergarten class. ‘i'm not saying i want to get her fired. i don't want to ruin her career,’ cagle said. ‘but in the very same breath, it's my kid,’ he added. cagle said he has had other problems with the school, including three incidents where the boy didn't get home on the bus as he should have. twice he was placed on the wrong bus, and once he wasn't placed on the bus at all. cagle said he complained each time. white, for her part, said she hadn't heard those reports and that it's possible school officials had not notified district administrators. ‘the last thing we ever want to do is lose a child,’ white said. watch video here:.\"\n",
            " \"james cagle of caldwell, idaho, said a kindergarten teacher locked his. 5-year-old boy in a small, dark room alone at the end of a school day. then forgot the child was there for over an hour. the room is used for tutoring, where aides work with students one-on-one and also used for emotionally impaired students, when a child needs to be removed from a class. the district hasn't released the teacher's name, nor will officials say whether she is still employed.\"]\n",
            "\n"
          ]
        }
      ]
    },
    {
      "cell_type": "markdown",
      "source": [
        "Now, I need to find the tokens from the articles. I need to use only training articles not any other and also I will not use summaries data because that will be my target and I won't know what type of words I will encounter when summarizing the source article. So, the only words that I know will be from the articles of training dataset. Here, I am going to use the `tensorflow.keras.preprocessing.text.Tokenizer` in short `Tokenizer` to find the tokens from the articles and then finally converting the articles into sequence of integers. One thing to remember is here we are going to use `oov_token` arguement of `Tokenizer` to mention the token we want to use for out-of-vocabulary words."
      ],
      "metadata": {
        "id": "IiiWRFR64jTP"
      }
    },
    {
      "cell_type": "code",
      "source": [
        "tokenizer = Tokenizer(num_words=VOCAB_SIZE,\n",
        "                      filters='#*+-/:,;<=>@[\\\\]^_{|}~\\t\\n[0-9]',\n",
        "                      oov_token=OOV_TOKEN)"
      ],
      "metadata": {
        "id": "HGx3PJz24gtS"
      },
      "execution_count": 61,
      "outputs": []
    },
    {
      "cell_type": "code",
      "source": [
        "# Fit the tokenizer on articles of the training set\n",
        "tokenizer.fit_on_texts(list(train_dataset[:, 0]))"
      ],
      "metadata": {
        "id": "151rEpqo7Pof"
      },
      "execution_count": 62,
      "outputs": []
    },
    {
      "cell_type": "code",
      "source": [
        "print(f\"The vocabulary for the tokenizer has a length {len(tokenizer.word_index)}\")\n",
        "print(f\"'<UNK>' word had index: {tokenizer.word_index['<UNK>']}\")\n",
        "print(f\"'teacher' word has index: {tokenizer.word_index['teacher']}\")\n",
        "\n",
        "print(f\"Text to Sequence of the first article is {tokenizer.texts_to_sequences([train_dataset[0, 0]])}\")\n",
        "\n",
        "sample_sequence = tokenizer.texts_to_sequences([train_dataset[0, 0]])\n",
        "print(f\"Sequence to Text of the first acrticle is {tokenizer.sequences_to_texts(sample_sequence)}\")"
      ],
      "metadata": {
        "id": "YUNreIjr8Kng",
        "outputId": "1c42902b-85e0-4ac6-cf76-47222387e7ac",
        "colab": {
          "base_uri": "https://localhost:8080/"
        }
      },
      "execution_count": 63,
      "outputs": [
        {
          "output_type": "stream",
          "name": "stdout",
          "text": [
            "The vocabulary for the tokenizer has a length 760011\n",
            "'<UNK>' word had index: 1\n",
            "'teacher' word has index: 1934\n",
            "Text to Sequence of the first article is [[237, 499, 578, 2951, 6, 1519, 685, 1814, 296, 74, 42, 3649, 215, 42, 599, 29, 482, 74, 412, 74, 42, 3649, 215, 42, 599, 29, 482, 4, 17812, 1934, 2991, 4, 146, 63, 95, 786, 7, 4, 6974, 1803, 640, 1813, 17, 2, 229, 5, 4, 213, 133, 111, 11314, 2, 407, 10, 70, 9, 71, 27, 7416, 2, 1, 8104, 385, 549, 213, 233, 7, 1, 19494, 21, 492, 31, 38, 1931, 40, 905, 20, 700, 1, 33, 134, 8, 44, 15, 391, 121, 37, 436, 13, 10, 4867, 6, 36, 1, 11, 3677, 2800, 10, 1, 1, 67, 1, 1125, 1167, 1, 4823, 158, 64, 137, 46, 1, 4, 146, 63, 95, 1, 440, 103, 9, 477, 5174, 385, 700, 1, 134, 13, 12, 8104, 8, 4, 17812, 1934, 2991, 4, 146, 63, 95, 786, 7, 4, 6974, 1803, 640, 1813, 17, 2, 229, 5, 4, 213, 133, 6, 111, 11314, 13, 10, 70, 9, 71, 27, 6244, 1512, 80, 1, 134, 8, 44, 15, 391, 121, 37, 436, 13, 10, 4867, 6, 36, 1, 11, 3677, 1, 21, 13, 6, 15, 391, 14783, 44, 37, 436, 247, 195, 115, 20, 15, 711, 17812, 1065, 1300, 46, 1640, 531, 40, 13, 10, 2298, 3, 22, 1379, 31, 2278, 3, 574, 4874, 213, 3, 252, 9, 501, 1, 21, 15, 391, 6, 4, 213, 573, 121, 2, 786, 4867, 6, 3217, 7, 2, 415, 640, 7, 2, 14340, 87, 13, 36, 1545, 39, 9, 126, 27, 838, 6, 4, 301, 40, 2, 1934, 194, 82, 70, 9, 1, 597, 158, 8, 73, 34, 2991, 75, 407, 7, 4, 640, 165, 474, 9, 82, 3, 1, 11, 5662, 2164, 22, 129, 3, 1388, 50, 407, 4608, 870, 53, 1, 575, 22, 325, 299, 82, 54, 5, 75, 180, 8, 1, 1, 48, 213, 233, 3592, 8, 2, 640, 10, 1, 278, 2, 1934, 53, 30, 19, 36, 4, 14936, 1798, 896, 6434, 9067, 264, 55, 2021, 8, 2, 1256, 3, 2, 640, 24, 4, 515, 11693, 47, 2153, 784, 7, 20, 2, 1, 2926, 233, 6774, 8, 2, 8225, 10, 1, 5069, 896, 6434, 2, 1934, 1, 30, 19, 525, 1, 21, 896, 6434, 2449, 1, 2, 1934, 1, 30, 19, 525, 1, 21, 896, 6434, 2449, 1, 1, 30, 4, 7216, 1, 1, 1078, 9933, 12, 30, 66, 45, 53, 19, 347, 28, 3, 1, 2, 896, 2078, 366, 2, 1, 4191, 2091, 41, 233, 154, 266, 32, 12, 131, 1, 55, 21, 32, 486, 2148, 66, 10964, 2602, 2, 1934, 3, 241, 2, 786, 7, 2, 3618, 3081, 397, 699, 3066, 6477, 1, 21, 10097, 67, 82, 8, 27, 641, 309, 36, 39, 1145, 7, 2, 1, 2615, 1, 6, 8, 32, 10, 131, 3630, 17, 2, 1978, 1, 21, 2, 640, 12, 171, 9, 1, 87, 7919, 173, 14, 614, 43, 11, 1857, 99, 55, 171, 9, 9068, 16013, 5432, 44, 4, 407, 772, 3, 22, 1734, 20, 4, 1065, 9, 1360, 18541, 1813, 80, 35, 12, 2, 640, 8, 1, 436, 10, 161, 687, 2241, 252, 213, 233, 7, 1, 19494, 21, 31, 25, 1931, 2, 2503, 2425, 5, 112, 9241, 3393, 7, 35, 1570, 306, 1, 48, 8241, 12, 117, 1, 6, 2, 1934, 1304, 2103, 7022, 46, 2216, 12, 2, 657, 8, 2, 407, 10, 161, 7, 70, 6, 3499, 1, 32, 36, 6997, 8, 32, 36, 1145, 2, 407, 7, 8, 1, 21, 1, 2, 896, 12, 7374, 69, 2516, 6, 4591, 11, 2, 1, 10511, 264, 48, 1, 24, 55, 562, 14, 2, 213, 1, 1604, 1, 33, 1134, 3, 241, 15, 436, 7, 150, 17812, 7273, 1, 30, 278, 34, 160, 3, 97, 28, 13176, 34, 166, 160, 3, 11874, 28, 1, 1, 48, 4557, 7, 2, 117, 184, 1, 99, 75, 1, 13, 1078, 1, 21, 13, 24, 36, 79, 886, 14, 2, 1909, 155, 94, 2778, 87, 2, 786, 247, 97, 115, 11, 2, 1663, 16, 13, 144, 3352, 1440, 13, 10, 1145, 11, 2, 1218, 12454, 6, 317, 13, 617, 1145, 11, 2, 1663, 17, 2345, 1, 21, 13, 2948, 243, 546, 5891, 9, 28, 5561, 21, 32, 3561, 449, 112, 654, 6, 8, 99, 635, 213, 233, 36, 30, 7428, 896, 1, 876, 68, 532, 45, 368, 160, 3, 93, 12, 1425, 4, 1, 264, 48, 414, 272, 325, 74]]\n",
            "Sequence to Text of the first acrticle is [\"by. daily mail reporter and associated press reporter. published . 1 54 est, 1 december 2 12. . updated . 1 54 est, 1 december 2 12. a kindergarten teacher locked a 5 year old boy in a small, dark room alone at the end of a school day then forgot the child was there for over an hour, the <UNK> outraged father says. school officials in <UNK> idaho, said friday they were investigating after hearing from james <UNK> who says that when his wife found their son he was crying and had <UNK> on himself. ‘he was <UNK> <UNK> told <UNK> television station <UNK> ‘you know just think about <UNK> a 5 year old <UNK> scroll down for video. furious father james <UNK> says he is outraged that a kindergarten teacher locked a 5 year old boy in a small, dark room alone at the end of a school day and then forgot he was there for over an hour. tough time <UNK> says that when his wife found their son he was crying and had <UNK> on himself. <UNK> said he and his wife panicked when their son didn't come home from his morning kindergarten class wednesday. about 45 minutes after he was supposed to be home, they headed to washington elementary school to look for him. <UNK> said his wife and a school secretary found the boy crying and afraid in the small room in the dark, where he had apparently been for around an hour and a half after the teacher put him there for <UNK> ‘i know that if i locked my child in a room long enough for him to <UNK> on himself, i'd be going to jail or child protective services would <UNK> sure be here taking him out of my house that <UNK> <UNK> said. school officials dispute that the room was <UNK> saying the teacher would not have had a key. assistant district superintendent monica white also noted that the door to the room has a large window, which allows light in from the <UNK> still, officials acknowledge that the discipline was <UNK> frustrated district superintendent the teacher <UNK> not have done <UNK> said district superintendent tim <UNK> the teacher <UNK> not have done <UNK> said district superintendent tim <UNK> <UNK> not a preferred <UNK> <UNK> added. ‘that is not what we would have wanted her to <UNK> the district hasn't released the <UNK> name, nor will officials say whether she is still <UNK> also said she can't discuss what offense prompted the teacher to place the boy in the room, citing federal student privacy laws. <UNK> said administrators told him that an incident report had been placed in the <UNK> personnel <UNK> and that she was still teaching at the school. <UNK> said the room is used for <UNK> where aides work with students one on one. it's also used for emotionally impaired students, when a child needs to be removed from a class for becoming violent. alone time this is the room that <UNK> son was left in. closer look school officials in <UNK> idaho, said they are investigating the incident. neither of those instances apply in this case, however, <UNK> said. ‘what is very <UNK> and the teacher certainly feels awful about this, is the fact that the child was left in there and was, <UNK> she had forgotten that she had placed the child in that <UNK> said <UNK> the district is reviewing its policies and procedures on the <UNK> rooms, white said. <UNK> has also met with the school <UNK> steve <UNK> who agreed to place his son in another kindergarten class. <UNK> not saying i want to get her fired. i don't want to ruin her <UNK> <UNK> said. ‘but in the very same <UNK> it's my <UNK> he added. <UNK> said he has had other problems with the school, including three incidents where the boy didn't get home on the bus as he should have. twice he was placed on the wrong bus, and once he wasn't placed on the bus at all. <UNK> said he complained each time. white, for her part, said she hadn't heard those reports and that it's possible school officials had not notified district <UNK> ‘the last thing we ever want to do is lose a <UNK> white said. watch video here .\"]\n"
          ]
        }
      ]
    },
    {
      "cell_type": "code",
      "source": [],
      "metadata": {
        "id": "Kg0--aWuCTRq",
        "outputId": "8279be3c-38c6-40a7-a505-809acb7332bd",
        "colab": {
          "base_uri": "https://localhost:8080/"
        }
      },
      "execution_count": 67,
      "outputs": [
        {
          "output_type": "execute_result",
          "data": {
            "text/plain": [
              "19494"
            ]
          },
          "metadata": {},
          "execution_count": 67
        }
      ]
    }
  ]
}