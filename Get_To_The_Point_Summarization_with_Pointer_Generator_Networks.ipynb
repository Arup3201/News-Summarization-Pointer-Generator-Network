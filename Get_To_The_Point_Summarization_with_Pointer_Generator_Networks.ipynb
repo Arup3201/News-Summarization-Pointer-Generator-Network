{
  "nbformat": 4,
  "nbformat_minor": 0,
  "metadata": {
    "colab": {
      "provenance": [],
      "authorship_tag": "ABX9TyNGWzC+FskOYCz/Ozyqaj6d",
      "include_colab_link": true
    },
    "kernelspec": {
      "name": "python3",
      "display_name": "Python 3"
    },
    "language_info": {
      "name": "python"
    }
  },
  "cells": [
    {
      "cell_type": "markdown",
      "metadata": {
        "id": "view-in-github",
        "colab_type": "text"
      },
      "source": [
        "<a href=\"https://colab.research.google.com/github/Arup3201/Summarization-Project-using-Pointer-Gen/blob/main/Get_To_The_Point_Summarization_with_Pointer_Generator_Networks.ipynb\" target=\"_parent\"><img src=\"https://colab.research.google.com/assets/colab-badge.svg\" alt=\"Open In Colab\"/></a>"
      ]
    },
    {
      "cell_type": "code",
      "execution_count": 1,
      "metadata": {
        "id": "x6QucUCZ0q2V"
      },
      "outputs": [],
      "source": [
        "import tensorflow as tf\n",
        "import pathlib"
      ]
    },
    {
      "cell_type": "code",
      "source": [
        "path_to_cnn_stories = tf.keras.utils.get_file(\n",
        "    origin=\"https://huggingface.co/datasets/cnn_dailymail/resolve/main/data/cnn_stories.tgz\",\n",
        "    extract=True\n",
        ")\n",
        "\n",
        "path_to_dailymail_stories = tf.keras.utils.get_file(\n",
        "    origin=\"https://huggingface.co/datasets/cnn_dailymail/resolve/main/data/dailymail_stories.tgz\",\n",
        "    extract=True\n",
        ")"
      ],
      "metadata": {
        "colab": {
          "base_uri": "https://localhost:8080/"
        },
        "id": "hr2kPGPSLi5m",
        "outputId": "f6ffe70f-0c63-4052-a8e9-7aa94f0c22ef"
      },
      "execution_count": 2,
      "outputs": [
        {
          "output_type": "stream",
          "name": "stdout",
          "text": [
            "Downloading data from https://huggingface.co/datasets/cnn_dailymail/resolve/main/data/cnn_stories.tgz\n",
            "158577824/158577824 [==============================] - 2s 0us/step\n",
            "Downloading data from https://huggingface.co/datasets/cnn_dailymail/resolve/main/data/dailymail_stories.tgz\n",
            "375893739/375893739 [==============================] - 4s 0us/step\n"
          ]
        }
      ]
    },
    {
      "cell_type": "code",
      "source": [
        "path_to_cnn_stories, path_to_dailymail_stories"
      ],
      "metadata": {
        "colab": {
          "base_uri": "https://localhost:8080/"
        },
        "id": "uamve0operH0",
        "outputId": "6275e84c-3fb5-4c81-a37c-efe083540cd6"
      },
      "execution_count": 3,
      "outputs": [
        {
          "output_type": "execute_result",
          "data": {
            "text/plain": [
              "('/root/.keras/datasets/cnn_stories.tgz',\n",
              " '/root/.keras/datasets/dailymail_stories.tgz')"
            ]
          },
          "metadata": {},
          "execution_count": 3
        }
      ]
    },
    {
      "cell_type": "code",
      "source": [
        "!ls -l /root/.keras/datasets"
      ],
      "metadata": {
        "id": "WT84BmPll24S",
        "outputId": "0fbaf69e-c0a6-4f92-836e-08dadfaeafc3",
        "colab": {
          "base_uri": "https://localhost:8080/"
        }
      },
      "execution_count": 4,
      "outputs": [
        {
          "output_type": "stream",
          "name": "stdout",
          "text": [
            "total 521960\n",
            "drwxr-xr-x 3 root root      4096 Jun 29 05:51 cnn\n",
            "-rw-r--r-- 1 root root 158577824 Jun 29 05:51 cnn_stories.tgz\n",
            "drwxr-xr-x 3 root root      4096 Jun 29 05:51 dailymail\n",
            "-rw-r--r-- 1 root root 375893739 Jun 29 05:51 dailymail_stories.tgz\n"
          ]
        }
      ]
    },
    {
      "cell_type": "code",
      "source": [
        "cnn_stories_dir = pathlib.Path('/root/.keras/datasets/cnn/stories')\n",
        "dailymail_stories_dir = pathlib.Path('/root/.keras/datasets/dailymail/stories')"
      ],
      "metadata": {
        "id": "ag5ubSt7l88l"
      },
      "execution_count": 5,
      "outputs": []
    },
    {
      "cell_type": "code",
      "source": [
        "cnn_stories_dir, dailymail_stories_dir"
      ],
      "metadata": {
        "id": "UmMCM--Yhm3B",
        "outputId": "4bb064ff-d99d-43c2-f4ad-a2d99582d884",
        "colab": {
          "base_uri": "https://localhost:8080/"
        }
      },
      "execution_count": 6,
      "outputs": [
        {
          "output_type": "execute_result",
          "data": {
            "text/plain": [
              "(PosixPath('/root/.keras/datasets/cnn/stories'),\n",
              " PosixPath('/root/.keras/datasets/dailymail/stories'))"
            ]
          },
          "metadata": {},
          "execution_count": 6
        }
      ]
    },
    {
      "cell_type": "code",
      "source": [
        "for story in cnn_stories_dir.glob('*.story'):\n",
        "  print(story.name)\n",
        "  break"
      ],
      "metadata": {
        "id": "dZFFXG7Pg86H",
        "outputId": "49525f6a-b967-44af-90ff-8729b55b5ee2",
        "colab": {
          "base_uri": "https://localhost:8080/"
        }
      },
      "execution_count": 7,
      "outputs": [
        {
          "output_type": "stream",
          "name": "stdout",
          "text": [
            "b542255aba4cf869cf513e08a84b429b8bc0abf2.story\n"
          ]
        }
      ]
    },
    {
      "cell_type": "code",
      "source": [
        "cnn_stories = tf.data.Dataset.list_files(str(cnn_stories_dir/'*.story'))\n",
        "\n",
        "for f in cnn_stories.take(5):\n",
        "  print(f.numpy())"
      ],
      "metadata": {
        "id": "RHXjw9BFj1pC",
        "outputId": "23c4c5a8-dd27-4580-b19f-a67da6ada278",
        "colab": {
          "base_uri": "https://localhost:8080/"
        }
      },
      "execution_count": 8,
      "outputs": [
        {
          "output_type": "stream",
          "name": "stdout",
          "text": [
            "b'/root/.keras/datasets/cnn/stories/66463e8b1df792a6965ec21df398305e0442d38a.story'\n",
            "b'/root/.keras/datasets/cnn/stories/2b87bbacf5f4eb1bce5bf557152028f69fbdf389.story'\n",
            "b'/root/.keras/datasets/cnn/stories/6a779dc46af68abe061cc11b126d226b5d7bcddc.story'\n",
            "b'/root/.keras/datasets/cnn/stories/9814d293011b5b225a587e4fe681aa8682d643cb.story'\n",
            "b'/root/.keras/datasets/cnn/stories/4c9b8420b4581428513e9404e09db12d98279f90.story'\n"
          ]
        }
      ]
    },
    {
      "cell_type": "code",
      "source": [
        "dailymail_stories = tf.data.Dataset.list_files(str(dailymail_stories_dir/'*.story'))\n",
        "\n",
        "for f in dailymail_stories.take(5):\n",
        "  print(f.numpy())"
      ],
      "metadata": {
        "id": "Xua5jFPlmzYy",
        "outputId": "04552bf1-9af3-401c-f221-f6a0fe9701a9",
        "colab": {
          "base_uri": "https://localhost:8080/"
        }
      },
      "execution_count": 9,
      "outputs": [
        {
          "output_type": "stream",
          "name": "stdout",
          "text": [
            "b'/root/.keras/datasets/dailymail/stories/ba7fe6f45906be5f33f2b3ce10db1bbc49e07554.story'\n",
            "b'/root/.keras/datasets/dailymail/stories/092de3cb30f7b237aa3a3138d48fa4bd47ce9f43.story'\n",
            "b'/root/.keras/datasets/dailymail/stories/abe3b004fdfbb069dc740cf8c5bb0f589bc83294.story'\n",
            "b'/root/.keras/datasets/dailymail/stories/b56dc9831146a4aed7bd50883d47faf574eb3279.story'\n",
            "b'/root/.keras/datasets/dailymail/stories/b3b933f728c7c3151c112ebef7360cfe40c31a84.story'\n"
          ]
        }
      ]
    },
    {
      "cell_type": "code",
      "source": [
        "file_path = '/root/.keras/datasets/cnn/stories/0b920d4cf93a3e39bc885630426b62f0e3e4bc41.story'\n",
        "tf.io.read_file(file_path)"
      ],
      "metadata": {
        "id": "DPfjroANm8oD",
        "outputId": "305ea952-3044-47cf-82e0-0ccf39635a95",
        "colab": {
          "base_uri": "https://localhost:8080/"
        }
      },
      "execution_count": 10,
      "outputs": [
        {
          "output_type": "execute_result",
          "data": {
            "text/plain": [
              "<tf.Tensor: shape=(), dtype=string, numpy=b'(CNN) -- A Florida man is accused of strangling a family puppy, chopping it into pieces and cooking its ribs on the stove, Tampa police said.\\n\\nThomas Elliot Huggins, 25, was arrested Thursday after a family member called police.\\n\\n\"When officers arrived, they found the dog\\'s ribs cooked in a pot on the stove,\" Tampa police said. \"The dog\\'s head was in the garbage.\"\\n\\nHuggins had strangled the 5- to 6-month-old puppy and chopped it into quarters, storing pieces in the freezer for future meals, authorities said.\\n\\nHe was arrested on suspicion of animal cruelty. Animal control officials took the remains of the puppy.\\n\\nSmugglers drive Thailand\\'s grim trade in dog meat\\n\\nA national spotlight on animal abuse\\n\\n@highlight\\n\\nPolice say Thomas Elliot Huggins strangled and cut up a puppy\\n\\n@highlight\\n\\nWhen police arrived, they found the dog\\'s ribs cooking on the stove'>"
            ]
          },
          "metadata": {},
          "execution_count": 10
        }
      ]
    },
    {
      "cell_type": "code",
      "source": [
        "sample_story = tf.io.read_file(file_path)\n",
        "tf.strings.split(sample_story, sep='\\n\\n')"
      ],
      "metadata": {
        "id": "_uQYvFN-nKu3",
        "colab": {
          "base_uri": "https://localhost:8080/"
        },
        "outputId": "eb33c297-cd1b-44d0-b5c3-2e160ab7cfc8"
      },
      "execution_count": 24,
      "outputs": [
        {
          "output_type": "execute_result",
          "data": {
            "text/plain": [
              "<tf.Tensor: shape=(11,), dtype=string, numpy=\n",
              "array([b'(CNN) -- A Florida man is accused of strangling a family puppy, chopping it into pieces and cooking its ribs on the stove, Tampa police said.',\n",
              "       b'Thomas Elliot Huggins, 25, was arrested Thursday after a family member called police.',\n",
              "       b'\"When officers arrived, they found the dog\\'s ribs cooked in a pot on the stove,\" Tampa police said. \"The dog\\'s head was in the garbage.\"',\n",
              "       b'Huggins had strangled the 5- to 6-month-old puppy and chopped it into quarters, storing pieces in the freezer for future meals, authorities said.',\n",
              "       b'He was arrested on suspicion of animal cruelty. Animal control officials took the remains of the puppy.',\n",
              "       b\"Smugglers drive Thailand's grim trade in dog meat\",\n",
              "       b'A national spotlight on animal abuse', b'@highlight',\n",
              "       b'Police say Thomas Elliot Huggins strangled and cut up a puppy',\n",
              "       b'@highlight',\n",
              "       b\"When police arrived, they found the dog's ribs cooking on the stove\"],\n",
              "      dtype=object)>"
            ]
          },
          "metadata": {},
          "execution_count": 24
        }
      ]
    },
    {
      "cell_type": "code",
      "source": [
        "sample_story_sents = tf.strings.split(sample_story, sep='\\n\\n')\n",
        "tf.where(sample_story_sents=='@highlight')"
      ],
      "metadata": {
        "colab": {
          "base_uri": "https://localhost:8080/"
        },
        "id": "j0yke-1bsFS5",
        "outputId": "f8d432e4-f3b7-4247-915d-07d376af24d2"
      },
      "execution_count": 25,
      "outputs": [
        {
          "output_type": "execute_result",
          "data": {
            "text/plain": [
              "<tf.Tensor: shape=(2, 1), dtype=int64, numpy=\n",
              "array([[7],\n",
              "       [9]])>"
            ]
          },
          "metadata": {},
          "execution_count": 25
        }
      ]
    },
    {
      "cell_type": "code",
      "source": [
        "pos = tf.where(sample_story_sents=='@highlight')\n",
        "tf.reshape(pos, [-1])"
      ],
      "metadata": {
        "colab": {
          "base_uri": "https://localhost:8080/"
        },
        "id": "2_lbtCqJsPTY",
        "outputId": "e8d3962b-e1e1-4c62-916a-41ecdfe975e1"
      },
      "execution_count": 26,
      "outputs": [
        {
          "output_type": "execute_result",
          "data": {
            "text/plain": [
              "<tf.Tensor: shape=(2,), dtype=int64, numpy=array([7, 9])>"
            ]
          },
          "metadata": {},
          "execution_count": 26
        }
      ]
    },
    {
      "cell_type": "code",
      "source": [
        "pos = tf.reshape(pos, [-1])"
      ],
      "metadata": {
        "colab": {
          "base_uri": "https://localhost:8080/"
        },
        "id": "95XGBW81u-xG",
        "outputId": "676677b6-59c7-4af9-8dce-76d0866f01c0"
      },
      "execution_count": 27,
      "outputs": [
        {
          "output_type": "execute_result",
          "data": {
            "text/plain": [
              "<tf.Tensor: shape=(2,), dtype=int64, numpy=array([ 8, 10])>"
            ]
          },
          "metadata": {},
          "execution_count": 27
        }
      ]
    },
    {
      "cell_type": "code",
      "source": [
        "sample_story_sents[:pos[0]]"
      ],
      "metadata": {
        "colab": {
          "base_uri": "https://localhost:8080/"
        },
        "id": "j57rbiFAxWh_",
        "outputId": "8edb322d-cdcc-47e8-c99e-7d017d0c649d"
      },
      "execution_count": 28,
      "outputs": [
        {
          "output_type": "execute_result",
          "data": {
            "text/plain": [
              "<tf.Tensor: shape=(7,), dtype=string, numpy=\n",
              "array([b'(CNN) -- A Florida man is accused of strangling a family puppy, chopping it into pieces and cooking its ribs on the stove, Tampa police said.',\n",
              "       b'Thomas Elliot Huggins, 25, was arrested Thursday after a family member called police.',\n",
              "       b'\"When officers arrived, they found the dog\\'s ribs cooked in a pot on the stove,\" Tampa police said. \"The dog\\'s head was in the garbage.\"',\n",
              "       b'Huggins had strangled the 5- to 6-month-old puppy and chopped it into quarters, storing pieces in the freezer for future meals, authorities said.',\n",
              "       b'He was arrested on suspicion of animal cruelty. Animal control officials took the remains of the puppy.',\n",
              "       b\"Smugglers drive Thailand's grim trade in dog meat\",\n",
              "       b'A national spotlight on animal abuse'], dtype=object)>"
            ]
          },
          "metadata": {},
          "execution_count": 28
        }
      ]
    },
    {
      "cell_type": "code",
      "source": [
        "sample_article = tf.strings.join(sample_story_sents[:pos[0]], ' ')\n",
        "sample_article"
      ],
      "metadata": {
        "colab": {
          "base_uri": "https://localhost:8080/"
        },
        "id": "VUgw2hJ2v4Tz",
        "outputId": "1f927027-91e2-477d-8836-91254fbcc2c7"
      },
      "execution_count": 47,
      "outputs": [
        {
          "output_type": "execute_result",
          "data": {
            "text/plain": [
              "<tf.Tensor: shape=(), dtype=string, numpy=b'(CNN) -- A Florida man is accused of strangling a family puppy, chopping it into pieces and cooking its ribs on the stove, Tampa police said. Thomas Elliot Huggins, 25, was arrested Thursday after a family member called police. \"When officers arrived, they found the dog\\'s ribs cooked in a pot on the stove,\" Tampa police said. \"The dog\\'s head was in the garbage.\" Huggins had strangled the 5- to 6-month-old puppy and chopped it into quarters, storing pieces in the freezer for future meals, authorities said. He was arrested on suspicion of animal cruelty. Animal control officials took the remains of the puppy. Smugglers drive Thailand\\'s grim trade in dog meat A national spotlight on animal abuse'>"
            ]
          },
          "metadata": {},
          "execution_count": 47
        }
      ]
    },
    {
      "cell_type": "code",
      "source": [
        "pos+1"
      ],
      "metadata": {
        "colab": {
          "base_uri": "https://localhost:8080/"
        },
        "id": "iLTacOAkwqf9",
        "outputId": "b74f99a5-f2ab-4861-f967-f394e1e23591"
      },
      "execution_count": 30,
      "outputs": [
        {
          "output_type": "execute_result",
          "data": {
            "text/plain": [
              "<tf.Tensor: shape=(2,), dtype=int64, numpy=array([ 8, 10])>"
            ]
          },
          "metadata": {},
          "execution_count": 30
        }
      ]
    },
    {
      "cell_type": "code",
      "source": [
        "ind = pos + 1\n",
        "tf.gather(sample_story_sents, ind)"
      ],
      "metadata": {
        "colab": {
          "base_uri": "https://localhost:8080/"
        },
        "id": "8pWJHD9Rt44S",
        "outputId": "b760e02d-d88d-4e12-ee1f-43543fc1c4db"
      },
      "execution_count": 31,
      "outputs": [
        {
          "output_type": "execute_result",
          "data": {
            "text/plain": [
              "<tf.Tensor: shape=(2,), dtype=string, numpy=\n",
              "array([b'Police say Thomas Elliot Huggins strangled and cut up a puppy',\n",
              "       b\"When police arrived, they found the dog's ribs cooking on the stove\"],\n",
              "      dtype=object)>"
            ]
          },
          "metadata": {},
          "execution_count": 31
        }
      ]
    },
    {
      "cell_type": "code",
      "source": [
        "highlights = tf.gather(sample_story_sents, ind)\n",
        "highlights + '.'"
      ],
      "metadata": {
        "colab": {
          "base_uri": "https://localhost:8080/"
        },
        "id": "CJtZdWJmvR-C",
        "outputId": "5fdce58c-b32d-406d-948e-503cc027a43e"
      },
      "execution_count": 39,
      "outputs": [
        {
          "output_type": "execute_result",
          "data": {
            "text/plain": [
              "<tf.Tensor: shape=(2,), dtype=string, numpy=\n",
              "array([b'Police say Thomas Elliot Huggins strangled and cut up a puppy.',\n",
              "       b\"When police arrived, they found the dog's ribs cooking on the stove.\"],\n",
              "      dtype=object)>"
            ]
          },
          "metadata": {},
          "execution_count": 39
        }
      ]
    },
    {
      "cell_type": "code",
      "source": [
        "sample_summary = tf.strings.join(highlights + '.', ' ')\n",
        "sample_summary"
      ],
      "metadata": {
        "colab": {
          "base_uri": "https://localhost:8080/"
        },
        "id": "WxDHaYe5vkid",
        "outputId": "6cb05b56-98d4-440d-91ec-67196af8c222"
      },
      "execution_count": 48,
      "outputs": [
        {
          "output_type": "execute_result",
          "data": {
            "text/plain": [
              "<tf.Tensor: shape=(), dtype=string, numpy=b\"Police say Thomas Elliot Huggins strangled and cut up a puppy. When police arrived, they found the dog's ribs cooking on the stove.\">"
            ]
          },
          "metadata": {},
          "execution_count": 48
        }
      ]
    },
    {
      "cell_type": "code",
      "source": [
        "another_file_path = '/root/.keras/datasets/dailymail/stories/ba7fe6f45906be5f33f2b3ce10db1bbc49e07554.story'\n",
        "tf.io.read_file(another_file_path)"
      ],
      "metadata": {
        "colab": {
          "base_uri": "https://localhost:8080/"
        },
        "id": "JwG5eiiLy_zK",
        "outputId": "74f831d7-465b-45f6-e9bf-2c4d92a88536"
      },
      "execution_count": 43,
      "outputs": [
        {
          "output_type": "execute_result",
          "data": {
            "text/plain": [
              "<tf.Tensor: shape=(), dtype=string, numpy=b\"By\\nRosemarie Lentini\\n\\nA Mexican military helicopter involved in an anti-drug smuggling operation flew into America before shooting at two US Border Patrol agents yesterday.\\n\\nKVOA-TV reported the chopper fired over Tohono O\\xe2\\x80\\x99odham Indian Nation in the Arizona desert, before flying back to Mexico early Thursday morning. The agents were not injured.\\n\\nBorder Patrol Tucson Sector union president Art del Cueto said Mexican officials 'contacted US authorities and apologized for the incident' which occurred between midnight and 6am.\\n\\nLocation: Authorities said the Mexican military helicopter fired two shots over Tohono O'odham Indian Nation in the Arizona desert near the border, before flying back to Mexico early Thursday morning\\n\\nUS Border Patrol spokesman Andy Adame confirmed the report, saying the 'Mexican law enforcement helicopter' fired two shots 'while on a drug interdiction operation near the border'.\\n\\nHe said the incident was under investigation.\\n\\nSebasti\\xc3\\xa1n Galv\\xc3\\xa1n, a spokesman for the Mexican Consulate in Tucson, told AP the office was gathering information but did not have any details yet.\\n\\nThis was not the first time the Mexican military has veered across the international boundary.\\n\\nIn January, US border agents confronted two heavily armed Mexican soldiers who crossed 50 yards inside Arizona, the Los Angeles Times reported. A standoff ensued, but nobody was hurt.\\n\\nIn 2011, more than 30 uniformed Mexican soldiers in military vehicles crossed the Rio Grande without authorization in an incident that was believed to be inadvertent.\\n\\nAccording to a recent Washington Times story, the US Department of Homeland Security says that Mexican police or troops have crossed over the border around 300 times during the last decade, and were armed in around half of those incidents.\\n\\nUnder investigation: A Mexican military helicopter crossed the border into the US and shot at two US Border Patrol agents on Thursday (file picture)\\n\\n@highlight\\n\\nThe Mexican chopper was involved in an anti-drug smuggling operation\\n\\n@highlight\\n\\nTwo US agents in the Arizona desert were shot at but not injured\\n\\n@highlight\\n\\nUS authorities are investigating\">"
            ]
          },
          "metadata": {},
          "execution_count": 43
        }
      ]
    },
    {
      "cell_type": "code",
      "source": [
        "another_sample_story = tf.io.read_file(another_file_path)\n",
        "tf.strings.split(another_sample_story, '\\n\\n')"
      ],
      "metadata": {
        "id": "4lJcHqGv0DQP",
        "outputId": "ac0e47b8-0053-4733-d99b-a4869e67a483",
        "colab": {
          "base_uri": "https://localhost:8080/"
        }
      },
      "execution_count": 44,
      "outputs": [
        {
          "output_type": "execute_result",
          "data": {
            "text/plain": [
              "<tf.Tensor: shape=(19,), dtype=string, numpy=\n",
              "array([b'By\\nRosemarie Lentini',\n",
              "       b'A Mexican military helicopter involved in an anti-drug smuggling operation flew into America before shooting at two US Border Patrol agents yesterday.',\n",
              "       b'KVOA-TV reported the chopper fired over Tohono O\\xe2\\x80\\x99odham Indian Nation in the Arizona desert, before flying back to Mexico early Thursday morning. The agents were not injured.',\n",
              "       b\"Border Patrol Tucson Sector union president Art del Cueto said Mexican officials 'contacted US authorities and apologized for the incident' which occurred between midnight and 6am.\",\n",
              "       b\"Location: Authorities said the Mexican military helicopter fired two shots over Tohono O'odham Indian Nation in the Arizona desert near the border, before flying back to Mexico early Thursday morning\",\n",
              "       b\"US Border Patrol spokesman Andy Adame confirmed the report, saying the 'Mexican law enforcement helicopter' fired two shots 'while on a drug interdiction operation near the border'.\",\n",
              "       b'He said the incident was under investigation.',\n",
              "       b'Sebasti\\xc3\\xa1n Galv\\xc3\\xa1n, a spokesman for the Mexican Consulate in Tucson, told AP the office was gathering information but did not have any details yet.',\n",
              "       b'This was not the first time the Mexican military has veered across the international boundary.',\n",
              "       b'In January, US border agents confronted two heavily armed Mexican soldiers who crossed 50 yards inside Arizona, the Los Angeles Times reported. A standoff ensued, but nobody was hurt.',\n",
              "       b'In 2011, more than 30 uniformed Mexican soldiers in military vehicles crossed the Rio Grande without authorization in an incident that was believed to be inadvertent.',\n",
              "       b'According to a recent Washington Times story, the US Department of Homeland Security says that Mexican police or troops have crossed over the border around 300 times during the last decade, and were armed in around half of those incidents.',\n",
              "       b'Under investigation: A Mexican military helicopter crossed the border into the US and shot at two US Border Patrol agents on Thursday (file picture)',\n",
              "       b'@highlight',\n",
              "       b'The Mexican chopper was involved in an anti-drug smuggling operation',\n",
              "       b'@highlight',\n",
              "       b'Two US agents in the Arizona desert were shot at but not injured',\n",
              "       b'@highlight', b'US authorities are investigating'], dtype=object)>"
            ]
          },
          "metadata": {},
          "execution_count": 44
        }
      ]
    },
    {
      "cell_type": "code",
      "source": [
        "another_sample_story_sents = tf.strings.split(another_sample_story, '\\n\\n')\n",
        "another_pos = tf.where(another_sample_story_sents==\"@highlight\")\n",
        "another_pos = tf.reshape(another_pos, [-1])\n",
        "another_sample_article = tf.strings.join(another_sample_story_sents[:another_pos[0]], ' ')\n",
        "another_ind = another_pos + 1\n",
        "another_highlights = tf.gather(another_sample_story_sents, another_ind)\n",
        "another_sample_summary = tf.strings.join(another_highlights + '.', ' ')\n",
        "\n",
        "another_sample_article, another_sample_summary"
      ],
      "metadata": {
        "id": "iiGAchjP0L7i",
        "outputId": "60dc7c6c-3961-425d-aed1-cf6e47771226",
        "colab": {
          "base_uri": "https://localhost:8080/"
        }
      },
      "execution_count": 46,
      "outputs": [
        {
          "output_type": "execute_result",
          "data": {
            "text/plain": [
              "(<tf.Tensor: shape=(), dtype=string, numpy=b\"By\\nRosemarie Lentini A Mexican military helicopter involved in an anti-drug smuggling operation flew into America before shooting at two US Border Patrol agents yesterday. KVOA-TV reported the chopper fired over Tohono O\\xe2\\x80\\x99odham Indian Nation in the Arizona desert, before flying back to Mexico early Thursday morning. The agents were not injured. Border Patrol Tucson Sector union president Art del Cueto said Mexican officials 'contacted US authorities and apologized for the incident' which occurred between midnight and 6am. Location: Authorities said the Mexican military helicopter fired two shots over Tohono O'odham Indian Nation in the Arizona desert near the border, before flying back to Mexico early Thursday morning US Border Patrol spokesman Andy Adame confirmed the report, saying the 'Mexican law enforcement helicopter' fired two shots 'while on a drug interdiction operation near the border'. He said the incident was under investigation. Sebasti\\xc3\\xa1n Galv\\xc3\\xa1n, a spokesman for the Mexican Consulate in Tucson, told AP the office was gathering information but did not have any details yet. This was not the first time the Mexican military has veered across the international boundary. In January, US border agents confronted two heavily armed Mexican soldiers who crossed 50 yards inside Arizona, the Los Angeles Times reported. A standoff ensued, but nobody was hurt. In 2011, more than 30 uniformed Mexican soldiers in military vehicles crossed the Rio Grande without authorization in an incident that was believed to be inadvertent. According to a recent Washington Times story, the US Department of Homeland Security says that Mexican police or troops have crossed over the border around 300 times during the last decade, and were armed in around half of those incidents. Under investigation: A Mexican military helicopter crossed the border into the US and shot at two US Border Patrol agents on Thursday (file picture)\">,\n",
              " <tf.Tensor: shape=(), dtype=string, numpy=b'The Mexican chopper was involved in an anti-drug smuggling operation. Two US agents in the Arizona desert were shot at but not injured. US authorities are investigating.'>)"
            ]
          },
          "metadata": {},
          "execution_count": 46
        }
      ]
    }
  ]
}