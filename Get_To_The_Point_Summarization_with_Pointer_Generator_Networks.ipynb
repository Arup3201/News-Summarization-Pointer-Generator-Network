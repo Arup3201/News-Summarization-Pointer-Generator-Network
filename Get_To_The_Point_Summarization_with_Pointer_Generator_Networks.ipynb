{
  "nbformat": 4,
  "nbformat_minor": 0,
  "metadata": {
    "colab": {
      "provenance": [],
      "authorship_tag": "ABX9TyPMxHZKFAaZohkMMFvA2wSh",
      "include_colab_link": true
    },
    "kernelspec": {
      "name": "python3",
      "display_name": "Python 3"
    },
    "language_info": {
      "name": "python"
    }
  },
  "cells": [
    {
      "cell_type": "markdown",
      "metadata": {
        "id": "view-in-github",
        "colab_type": "text"
      },
      "source": [
        "<a href=\"https://colab.research.google.com/github/Arup3201/Summarization-Project-using-Pointer-Gen/blob/main/Get_To_The_Point_Summarization_with_Pointer_Generator_Networks.ipynb\" target=\"_parent\"><img src=\"https://colab.research.google.com/assets/colab-badge.svg\" alt=\"Open In Colab\"/></a>"
      ]
    },
    {
      "cell_type": "code",
      "execution_count": 1,
      "metadata": {
        "id": "x6QucUCZ0q2V"
      },
      "outputs": [],
      "source": [
        "import tensorflow as tf\n",
        "import pathlib"
      ]
    },
    {
      "cell_type": "code",
      "source": [
        "path_to_cnn_stories = tf.keras.utils.get_file(\n",
        "    origin=\"https://huggingface.co/datasets/cnn_dailymail/resolve/main/data/cnn_stories.tgz\",\n",
        "    extract=True\n",
        ")\n",
        "\n",
        "path_to_dailymail_stories = tf.keras.utils.get_file(\n",
        "    origin=\"https://huggingface.co/datasets/cnn_dailymail/resolve/main/data/dailymail_stories.tgz\",\n",
        "    extract=True\n",
        ")"
      ],
      "metadata": {
        "colab": {
          "base_uri": "https://localhost:8080/"
        },
        "id": "hr2kPGPSLi5m",
        "outputId": "3c3deba5-80a5-4654-d149-b6b4ec5fac7b"
      },
      "execution_count": 4,
      "outputs": [
        {
          "output_type": "stream",
          "name": "stdout",
          "text": [
            "Downloading data from https://huggingface.co/datasets/cnn_dailymail/resolve/main/data/cnn_stories.tgz\n",
            "158577824/158577824 [==============================] - 3s 0us/step\n",
            "Downloading data from https://huggingface.co/datasets/cnn_dailymail/resolve/main/data/dailymail_stories.tgz\n",
            "375893739/375893739 [==============================] - 4s 0us/step\n"
          ]
        }
      ]
    },
    {
      "cell_type": "code",
      "source": [
        "path_to_cnn_stories, path_to_dailymail_stories"
      ],
      "metadata": {
        "colab": {
          "base_uri": "https://localhost:8080/"
        },
        "id": "uamve0operH0",
        "outputId": "a831e43f-40a1-4045-de3f-3ce7ef9310cf"
      },
      "execution_count": 5,
      "outputs": [
        {
          "output_type": "execute_result",
          "data": {
            "text/plain": [
              "('/root/.keras/datasets/cnn_stories.tgz',\n",
              " '/root/.keras/datasets/dailymail_stories.tgz')"
            ]
          },
          "metadata": {},
          "execution_count": 5
        }
      ]
    },
    {
      "cell_type": "code",
      "source": [
        "!ls -l /root/.keras/datasets"
      ],
      "metadata": {
        "id": "WT84BmPll24S",
        "outputId": "7628161b-0ec3-4459-980e-5f38194a32ff",
        "colab": {
          "base_uri": "https://localhost:8080/"
        }
      },
      "execution_count": 6,
      "outputs": [
        {
          "output_type": "stream",
          "name": "stdout",
          "text": [
            "total 521956\n",
            "drwxr-xr-x 3 root root      4096 Jun 28 10:40 cnn\n",
            "-rw-r--r-- 1 root root 158577824 Jun 28 10:40 cnn_stories.tgz\n",
            "drwxr-xr-x 3 root root      4096 Jun 28 10:40 dailymail\n",
            "-rw-r--r-- 1 root root 375893739 Jun 28 10:40 dailymail_stories.tgz\n"
          ]
        }
      ]
    },
    {
      "cell_type": "code",
      "source": [
        "cnn_stories_dir = pathlib.Path('/root/.keras/datasets/cnn/stories')\n",
        "dailymail_stories_dir = pathlib.Path('/root/.keras/datasets/dailymail/stories')"
      ],
      "metadata": {
        "id": "ag5ubSt7l88l"
      },
      "execution_count": 7,
      "outputs": []
    },
    {
      "cell_type": "code",
      "source": [
        "cnn_stories_dir, dailymail_stories_dir"
      ],
      "metadata": {
        "id": "UmMCM--Yhm3B",
        "outputId": "607b3c05-1758-4124-ea6b-87779e69254f",
        "colab": {
          "base_uri": "https://localhost:8080/"
        }
      },
      "execution_count": 8,
      "outputs": [
        {
          "output_type": "execute_result",
          "data": {
            "text/plain": [
              "(PosixPath('/root/.keras/datasets/cnn/stories'),\n",
              " PosixPath('/root/.keras/datasets/dailymail/stories'))"
            ]
          },
          "metadata": {},
          "execution_count": 8
        }
      ]
    },
    {
      "cell_type": "code",
      "source": [
        "for story in cnn_stories_dir.glob('*.story'):\n",
        "  print(story.name)\n",
        "  break"
      ],
      "metadata": {
        "id": "dZFFXG7Pg86H",
        "outputId": "901183da-8ab4-4ade-e286-5e99de212bab",
        "colab": {
          "base_uri": "https://localhost:8080/"
        }
      },
      "execution_count": 9,
      "outputs": [
        {
          "output_type": "stream",
          "name": "stdout",
          "text": [
            "76ae05aa15e51a930f75d6c3819d1096d684cd1b.story\n"
          ]
        }
      ]
    },
    {
      "cell_type": "code",
      "source": [
        "cnn_stories = tf.data.Dataset.list_files(str(cnn_stories_dir/'*.story'))\n",
        "\n",
        "for f in cnn_stories.take(5):\n",
        "  print(f.numpy())"
      ],
      "metadata": {
        "id": "RHXjw9BFj1pC",
        "outputId": "18c68bbc-ce78-455d-c72e-6508a9d452e0",
        "colab": {
          "base_uri": "https://localhost:8080/"
        }
      },
      "execution_count": 10,
      "outputs": [
        {
          "output_type": "stream",
          "name": "stdout",
          "text": [
            "b'/root/.keras/datasets/cnn/stories/0b920d4cf93a3e39bc885630426b62f0e3e4bc41.story'\n",
            "b'/root/.keras/datasets/cnn/stories/8279a3a3c11bbc0aa5d30acff5550bb40c6e653e.story'\n",
            "b'/root/.keras/datasets/cnn/stories/71bd3d373b072fbd0a92cef14c0b69abdf21a92c.story'\n",
            "b'/root/.keras/datasets/cnn/stories/29829fb12027f3e241d537ca271eea8013f011d9.story'\n",
            "b'/root/.keras/datasets/cnn/stories/c6c61d20fa98d19afafecc8094ce833885173773.story'\n"
          ]
        }
      ]
    },
    {
      "cell_type": "code",
      "source": [
        "dailymail_stories = tf.data.Dataset.list_files(str(dailymail_stories_dir/'*.story'))\n",
        "\n",
        "for f in dailymail_stories.take(5):\n",
        "  print(f.numpy())"
      ],
      "metadata": {
        "id": "Xua5jFPlmzYy",
        "outputId": "3f23b69b-4aea-4cc9-bd76-15cecf992781",
        "colab": {
          "base_uri": "https://localhost:8080/"
        }
      },
      "execution_count": 11,
      "outputs": [
        {
          "output_type": "stream",
          "name": "stdout",
          "text": [
            "b'/root/.keras/datasets/dailymail/stories/453e12c104e074e1b87fca6f4bf21ca42e939c90.story'\n",
            "b'/root/.keras/datasets/dailymail/stories/bb2fe60eba77e156e9974451c2335f9f479659ea.story'\n",
            "b'/root/.keras/datasets/dailymail/stories/16fbe435708e074645bc66ffd490cbee6ea04b8c.story'\n",
            "b'/root/.keras/datasets/dailymail/stories/e6aa5986552963b9473b3da9839ea423ed418ba0.story'\n",
            "b'/root/.keras/datasets/dailymail/stories/06b2201ef3a30701e88cb93b4e6471e8fdf3b51a.story'\n"
          ]
        }
      ]
    },
    {
      "cell_type": "code",
      "source": [
        "file_path = '/root/.keras/datasets/cnn/stories/0b920d4cf93a3e39bc885630426b62f0e3e4bc41.story'\n",
        "tf.io.read_file(file_path)"
      ],
      "metadata": {
        "id": "DPfjroANm8oD",
        "outputId": "8feba6ea-3345-403c-dfb0-9afba6a7242c",
        "colab": {
          "base_uri": "https://localhost:8080/"
        }
      },
      "execution_count": 12,
      "outputs": [
        {
          "output_type": "execute_result",
          "data": {
            "text/plain": [
              "<tf.Tensor: shape=(), dtype=string, numpy=b'(CNN) -- A Florida man is accused of strangling a family puppy, chopping it into pieces and cooking its ribs on the stove, Tampa police said.\\n\\nThomas Elliot Huggins, 25, was arrested Thursday after a family member called police.\\n\\n\"When officers arrived, they found the dog\\'s ribs cooked in a pot on the stove,\" Tampa police said. \"The dog\\'s head was in the garbage.\"\\n\\nHuggins had strangled the 5- to 6-month-old puppy and chopped it into quarters, storing pieces in the freezer for future meals, authorities said.\\n\\nHe was arrested on suspicion of animal cruelty. Animal control officials took the remains of the puppy.\\n\\nSmugglers drive Thailand\\'s grim trade in dog meat\\n\\nA national spotlight on animal abuse\\n\\n@highlight\\n\\nPolice say Thomas Elliot Huggins strangled and cut up a puppy\\n\\n@highlight\\n\\nWhen police arrived, they found the dog\\'s ribs cooking on the stove'>"
            ]
          },
          "metadata": {},
          "execution_count": 12
        }
      ]
    },
    {
      "cell_type": "code",
      "source": [],
      "metadata": {
        "id": "_uQYvFN-nKu3"
      },
      "execution_count": null,
      "outputs": []
    }
  ]
}