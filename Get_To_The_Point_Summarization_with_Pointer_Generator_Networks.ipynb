{
  "nbformat": 4,
  "nbformat_minor": 0,
  "metadata": {
    "colab": {
      "provenance": [],
      "authorship_tag": "ABX9TyP2oN1NAhAEAXQPJ+4+YZyv",
      "include_colab_link": true
    },
    "kernelspec": {
      "name": "python3",
      "display_name": "Python 3"
    },
    "language_info": {
      "name": "python"
    }
  },
  "cells": [
    {
      "cell_type": "markdown",
      "metadata": {
        "id": "view-in-github",
        "colab_type": "text"
      },
      "source": [
        "<a href=\"https://colab.research.google.com/github/Arup3201/Summarization-Project-using-Pointer-Gen/blob/main/Get_To_The_Point_Summarization_with_Pointer_Generator_Networks.ipynb\" target=\"_parent\"><img src=\"https://colab.research.google.com/assets/colab-badge.svg\" alt=\"Open In Colab\"/></a>"
      ]
    },
    {
      "cell_type": "code",
      "execution_count": 1,
      "metadata": {
        "id": "x6QucUCZ0q2V"
      },
      "outputs": [],
      "source": [
        "import tensorflow as tf\n",
        "import pathlib"
      ]
    },
    {
      "cell_type": "code",
      "source": [
        "path_to_cnn_stories = tf.keras.utils.get_file(\n",
        "    origin=\"https://huggingface.co/datasets/cnn_dailymail/resolve/main/data/cnn_stories.tgz\",\n",
        "    extract=True\n",
        ")\n",
        "\n",
        "path_to_dailymail_stories = tf.keras.utils.get_file(\n",
        "    origin=\"https://huggingface.co/datasets/cnn_dailymail/resolve/main/data/dailymail_stories.tgz\",\n",
        "    extract=True\n",
        ")"
      ],
      "metadata": {
        "colab": {
          "base_uri": "https://localhost:8080/"
        },
        "id": "hr2kPGPSLi5m",
        "outputId": "230c77f4-c9d4-45f0-e033-721ede831217"
      },
      "execution_count": 2,
      "outputs": [
        {
          "output_type": "stream",
          "name": "stdout",
          "text": [
            "Downloading data from https://huggingface.co/datasets/cnn_dailymail/resolve/main/data/cnn_stories.tgz\n",
            "158577824/158577824 [==============================] - 2s 0us/step\n",
            "Downloading data from https://huggingface.co/datasets/cnn_dailymail/resolve/main/data/dailymail_stories.tgz\n",
            "375893739/375893739 [==============================] - 4s 0us/step\n"
          ]
        }
      ]
    },
    {
      "cell_type": "code",
      "source": [
        "path_to_cnn_stories, path_to_dailymail_stories"
      ],
      "metadata": {
        "colab": {
          "base_uri": "https://localhost:8080/"
        },
        "id": "uamve0operH0",
        "outputId": "0d0ab1e0-bb5b-4e99-be77-bdb2fbbefa21"
      },
      "execution_count": 3,
      "outputs": [
        {
          "output_type": "execute_result",
          "data": {
            "text/plain": [
              "('/root/.keras/datasets/cnn_stories.tgz',\n",
              " '/root/.keras/datasets/dailymail_stories.tgz')"
            ]
          },
          "metadata": {},
          "execution_count": 3
        }
      ]
    },
    {
      "cell_type": "code",
      "source": [
        "!ls -l /root/.keras/datasets"
      ],
      "metadata": {
        "id": "WT84BmPll24S",
        "outputId": "282f45fc-16d5-4cca-c102-17be83127984",
        "colab": {
          "base_uri": "https://localhost:8080/"
        }
      },
      "execution_count": 4,
      "outputs": [
        {
          "output_type": "stream",
          "name": "stdout",
          "text": [
            "total 521960\n",
            "drwxr-xr-x 3 root root      4096 Jul 22 12:49 cnn\n",
            "-rw-r--r-- 1 root root 158577824 Jul 22 12:49 cnn_stories.tgz\n",
            "drwxr-xr-x 3 root root      4096 Jul 22 12:50 dailymail\n",
            "-rw-r--r-- 1 root root 375893739 Jul 22 12:50 dailymail_stories.tgz\n"
          ]
        }
      ]
    },
    {
      "cell_type": "code",
      "source": [
        "cnn_stories_dir = pathlib.Path('/root/.keras/datasets/cnn/stories')\n",
        "dailymail_stories_dir = pathlib.Path('/root/.keras/datasets/dailymail/stories')"
      ],
      "metadata": {
        "id": "ag5ubSt7l88l"
      },
      "execution_count": 5,
      "outputs": []
    },
    {
      "cell_type": "code",
      "source": [
        "cnn_stories_dir, dailymail_stories_dir"
      ],
      "metadata": {
        "id": "UmMCM--Yhm3B",
        "outputId": "9324a293-9eb9-468f-fa69-e63faa33a7bb",
        "colab": {
          "base_uri": "https://localhost:8080/"
        }
      },
      "execution_count": 6,
      "outputs": [
        {
          "output_type": "execute_result",
          "data": {
            "text/plain": [
              "(PosixPath('/root/.keras/datasets/cnn/stories'),\n",
              " PosixPath('/root/.keras/datasets/dailymail/stories'))"
            ]
          },
          "metadata": {},
          "execution_count": 6
        }
      ]
    },
    {
      "cell_type": "code",
      "source": [
        "def print_filenames(dir_path, num_files=5):\n",
        "  '''Prints the name of the files that are present at `dir_path`.\n",
        "  Maximum `num_files` number of files are shown.\n",
        "\n",
        "  Arguements:\n",
        "    dir_path: PosixPath, pointing to the directory of which the user\n",
        "              wants to prints the file names.\n",
        "    num_files: int, number of files user wants to print.\n",
        "\n",
        "  returns:\n",
        "    nothing\n",
        "  '''\n",
        "\n",
        "  count = 0\n",
        "  for f in dir_path.glob('*.story'):\n",
        "    print(f.name)\n",
        "    count += 1\n",
        "\n",
        "    if count == num_files:\n",
        "      break\n",
        "  else:\n",
        "    print(f\"Less than {num_files} is present!\")"
      ],
      "metadata": {
        "id": "dZFFXG7Pg86H"
      },
      "execution_count": 10,
      "outputs": []
    },
    {
      "cell_type": "code",
      "source": [
        "print_filenames(cnn_stories_dir)"
      ],
      "metadata": {
        "id": "nv3g7-M316yL",
        "outputId": "16b75701-cc3d-4b10-d989-608af1c9db79",
        "colab": {
          "base_uri": "https://localhost:8080/"
        }
      },
      "execution_count": 11,
      "outputs": [
        {
          "output_type": "stream",
          "name": "stdout",
          "text": [
            "438411e10e1ef79b47cc48cd95296d85798c1e38.story\n",
            "e453e379e8a70af2d3dff1c75c41b0a35edbe9cc.story\n",
            "2079f35aca44978a7985afe0ddacdf02bedf98f2.story\n",
            "4702f28c198223157bb8f69665b039d560eebb0f.story\n",
            "db3e2ea79323a98379228b17cd3b9dec17dbd2cb.story\n"
          ]
        }
      ]
    },
    {
      "cell_type": "code",
      "source": [
        "print_filenames(dailymail_stories_dir)"
      ],
      "metadata": {
        "id": "WcyW1wJa2EaN",
        "outputId": "d2066acf-b2f0-4f44-f44a-6ec12a97f6a7",
        "colab": {
          "base_uri": "https://localhost:8080/"
        }
      },
      "execution_count": 12,
      "outputs": [
        {
          "output_type": "stream",
          "name": "stdout",
          "text": [
            "f4ba18635997139c751311b9f2ad18f455dd7c98.story\n",
            "4a3ef32cff589c85ad0d22724e2ed747c0dacf87.story\n",
            "5375ed75939108c72001b043d3b4799c47f32be9.story\n",
            "fe9e57c21e21fb4ec26e394f0e92824f38d18a95.story\n",
            "6a544b5cdd2384be6cc657b265d7aa2de72a99e0.story\n"
          ]
        }
      ]
    },
    {
      "cell_type": "code",
      "source": [
        "# Taking a sample .story file from cnn stories\n",
        "sample_filename = \"438411e10e1ef79b47cc48cd95296d85798c1e38.story\"\n",
        "sample_filedir = cnn_stories_dir\n",
        "\n",
        "sample_filepath = sample_filedir / sample_filename\n",
        "with open(sample_filepath, 'r') as f:\n",
        "  print(f.read())"
      ],
      "metadata": {
        "id": "Uw0kqchX3X7X",
        "outputId": "d353fa09-d367-4049-d7a2-fbd382afb7b7",
        "colab": {
          "base_uri": "https://localhost:8080/"
        }
      },
      "execution_count": 13,
      "outputs": [
        {
          "output_type": "stream",
          "name": "stdout",
          "text": [
            "New York (CNN) -- The U.S. population is expected to top out at close to 312.8 million people just around the time crowds gather to watch the ball drop on New Year's Eve, according to new census data released Thursday.\n",
            "\n",
            "The figure represents a 0.7% increase from last year, adding 2,250,129 people to the U.S. population since the start of 2011, and a 1.3% increase since Census Day, April 1, 2010.\n",
            "\n",
            "The agency estimates that beginning in January, one American will be born every eight seconds and one will die every 12 seconds.\n",
            "\n",
            "U.S.-bound immigrants are also expected to add one person every 46 seconds.\n",
            "\n",
            "That combination of births, deaths and migration is expected to add a single person to the U.S. population every 17 seconds, the Census Bureau said.\n",
            "\n",
            "Meanwhile, millions are set to ring in the new year.\n",
            "\n",
            "In New York, authorities are preparing for large crowds in Manhattan's Times Square, where Lady Gaga is expected to join Mayor Michael Bloomberg to push the button that drops the Waterford Crystal ball at 11:59 p.m. ET on New Year's Eve.\n",
            "\n",
            "\"And I'm so looking forward to performing on NYE+dropping the Ball with Mayor Bloomberg!\" the pop star posted on Twitter. \"What an honor as a New Yorker.\"\n",
            "\n",
            "Past guests have included Muhammad Ali, Rudy Giuliani, Colin Powell and Bill and Hillary Clinton.\n",
            "\n",
            "On Thursday, officials conducted New York's annual \"airworthiness test\" -- a process in which confetti is tossed by handfuls above Times Square -- in preparation for the annual city tradition of dumping one ton of confetti over revelers in the iconic square.\n",
            "\n",
            "The Big Apple this year edged out Las Vegas for the first time in seven years as the top travel U.S. destination for those celebrating the new year, according to a December travel booking website poll.\n",
            "\n",
            "Seven New York neighborhoods made the top 10 list, with two districts in Las Vegas and one in New Orleans making up the other three, according to the Priceline poll.\n",
            "\n",
            "\"It appears that New York City will be helped this year by a weather forecast that calls for warmer than usual temperatures over the holiday weekend,\" said company spokesman Brian Ek.\n",
            "\n",
            "@highlight\n",
            "\n",
            "Census Bureau: U.S. population is expected to be 312.8 million on New Year's Day\n",
            "\n",
            "@highlight\n",
            "\n",
            "That figure represents a 0.7% increase from last year\n",
            "\n",
            "@highlight\n",
            "\n",
            "Lady Gaga, mayor to activate ball drop at Times Square on New Year's Eve\n",
            "\n",
            "@highlight\n",
            "\n",
            "NYC has supplanted Las Vegas as the top New Year's destination, Priceline poll says\n"
          ]
        }
      ]
    },
    {
      "cell_type": "code",
      "source": [
        "MAX_STORIES = 50000"
      ],
      "metadata": {
        "id": "cubLAm1Q3SuG"
      },
      "execution_count": null,
      "outputs": []
    },
    {
      "cell_type": "markdown",
      "source": [
        "```\n",
        "cnn\n",
        "  stories\n",
        "    438411e10e1ef79b47cc48cd95296d85798c1e38.story\n",
        "    e453e379e8a70af2d3dff1c75c41b0a35edbe9cc.story\n",
        "    2079f35aca44978a7985afe0ddacdf02bedf98f2.story\n",
        "    4702f28c198223157bb8f69665b039d560eebb0f.story\n",
        "    db3e2ea79323a98379228b17cd3b9dec17dbd2cb.story\n",
        "    ...\n",
        "    ...\n",
        "    ...\n",
        "\n",
        "dailymail\n",
        "  stories\n",
        "    f4ba18635997139c751311b9f2ad18f455dd7c98.story\n",
        "    4a3ef32cff589c85ad0d22724e2ed747c0dacf87.story\n",
        "    5375ed75939108c72001b043d3b4799c47f32be9.story\n",
        "    fe9e57c21e21fb4ec26e394f0e92824f38d18a95.story\n",
        "    6a544b5cdd2384be6cc657b265d7aa2de72a99e0.story\n",
        "    ...\n",
        "    ...\n",
        "    ...\n",
        "\n",
        "```\n",
        "\n",
        "Out of all available .story files, we will only take `MAX_STORIES` number of files and then open them."
      ],
      "metadata": {
        "id": "Uk-BuCM4rIiO"
      }
    },
    {
      "cell_type": "code",
      "source": [],
      "metadata": {
        "id": "i-S-Hss12TPk"
      },
      "execution_count": null,
      "outputs": []
    }
  ]
}